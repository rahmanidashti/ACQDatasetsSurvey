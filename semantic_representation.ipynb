{
  "nbformat": 4,
  "nbformat_minor": 0,
  "metadata": {
    "colab": {
      "provenance": [],
      "authorship_tag": "ABX9TyPJeQ9Fb8wOD5bTYoPRSjkr",
      "include_colab_link": true
    },
    "kernelspec": {
      "name": "python3",
      "display_name": "Python 3"
    },
    "language_info": {
      "name": "python"
    },
    "accelerator": "GPU",
    "gpuClass": "standard"
  },
  "cells": [
    {
      "cell_type": "markdown",
      "metadata": {
        "id": "view-in-github",
        "colab_type": "text"
      },
      "source": [
        "<a href=\"https://colab.research.google.com/github/rahmanidashti/ACQSurvey/blob/main/semantic_representation.ipynb\" target=\"_parent\"><img src=\"https://colab.research.google.com/assets/colab-badge.svg\" alt=\"Open In Colab\"/></a>"
      ]
    },
    {
      "cell_type": "code",
      "source": [
        "!pip install sentence_transformers\n",
        "!pip install -U kaleido"
      ],
      "metadata": {
        "colab": {
          "base_uri": "https://localhost:8080/"
        },
        "id": "tt8qUEoryvL9",
        "outputId": "3ceafc02-b449-4442-bb3b-4c8d83b603f9"
      },
      "execution_count": null,
      "outputs": [
        {
          "output_type": "stream",
          "name": "stdout",
          "text": [
            "Looking in indexes: https://pypi.org/simple, https://us-python.pkg.dev/colab-wheels/public/simple/\n",
            "Collecting sentence_transformers\n",
            "  Downloading sentence-transformers-2.2.2.tar.gz (85 kB)\n",
            "\u001b[K     |████████████████████████████████| 85 kB 2.3 MB/s \n",
            "\u001b[?25hCollecting transformers<5.0.0,>=4.6.0\n",
            "  Downloading transformers-4.25.1-py3-none-any.whl (5.8 MB)\n",
            "\u001b[K     |████████████████████████████████| 5.8 MB 62.2 MB/s \n",
            "\u001b[?25hRequirement already satisfied: tqdm in /usr/local/lib/python3.8/dist-packages (from sentence_transformers) (4.64.1)\n",
            "Requirement already satisfied: torch>=1.6.0 in /usr/local/lib/python3.8/dist-packages (from sentence_transformers) (1.13.0+cu116)\n",
            "Requirement already satisfied: torchvision in /usr/local/lib/python3.8/dist-packages (from sentence_transformers) (0.14.0+cu116)\n",
            "Requirement already satisfied: numpy in /usr/local/lib/python3.8/dist-packages (from sentence_transformers) (1.21.6)\n",
            "Requirement already satisfied: scikit-learn in /usr/local/lib/python3.8/dist-packages (from sentence_transformers) (1.0.2)\n",
            "Requirement already satisfied: scipy in /usr/local/lib/python3.8/dist-packages (from sentence_transformers) (1.7.3)\n",
            "Requirement already satisfied: nltk in /usr/local/lib/python3.8/dist-packages (from sentence_transformers) (3.7)\n",
            "Collecting sentencepiece\n",
            "  Downloading sentencepiece-0.1.97-cp38-cp38-manylinux_2_17_x86_64.manylinux2014_x86_64.whl (1.3 MB)\n",
            "\u001b[K     |████████████████████████████████| 1.3 MB 19.5 MB/s \n",
            "\u001b[?25hCollecting huggingface-hub>=0.4.0\n",
            "  Downloading huggingface_hub-0.11.1-py3-none-any.whl (182 kB)\n",
            "\u001b[K     |████████████████████████████████| 182 kB 76.1 MB/s \n",
            "\u001b[?25hRequirement already satisfied: filelock in /usr/local/lib/python3.8/dist-packages (from huggingface-hub>=0.4.0->sentence_transformers) (3.8.2)\n",
            "Requirement already satisfied: typing-extensions>=3.7.4.3 in /usr/local/lib/python3.8/dist-packages (from huggingface-hub>=0.4.0->sentence_transformers) (4.4.0)\n",
            "Requirement already satisfied: pyyaml>=5.1 in /usr/local/lib/python3.8/dist-packages (from huggingface-hub>=0.4.0->sentence_transformers) (6.0)\n",
            "Requirement already satisfied: packaging>=20.9 in /usr/local/lib/python3.8/dist-packages (from huggingface-hub>=0.4.0->sentence_transformers) (21.3)\n",
            "Requirement already satisfied: requests in /usr/local/lib/python3.8/dist-packages (from huggingface-hub>=0.4.0->sentence_transformers) (2.23.0)\n",
            "Requirement already satisfied: pyparsing!=3.0.5,>=2.0.2 in /usr/local/lib/python3.8/dist-packages (from packaging>=20.9->huggingface-hub>=0.4.0->sentence_transformers) (3.0.9)\n",
            "Requirement already satisfied: regex!=2019.12.17 in /usr/local/lib/python3.8/dist-packages (from transformers<5.0.0,>=4.6.0->sentence_transformers) (2022.6.2)\n",
            "Collecting tokenizers!=0.11.3,<0.14,>=0.11.1\n",
            "  Downloading tokenizers-0.13.2-cp38-cp38-manylinux_2_17_x86_64.manylinux2014_x86_64.whl (7.6 MB)\n",
            "\u001b[K     |████████████████████████████████| 7.6 MB 54.1 MB/s \n",
            "\u001b[?25hRequirement already satisfied: click in /usr/local/lib/python3.8/dist-packages (from nltk->sentence_transformers) (7.1.2)\n",
            "Requirement already satisfied: joblib in /usr/local/lib/python3.8/dist-packages (from nltk->sentence_transformers) (1.2.0)\n",
            "Requirement already satisfied: urllib3!=1.25.0,!=1.25.1,<1.26,>=1.21.1 in /usr/local/lib/python3.8/dist-packages (from requests->huggingface-hub>=0.4.0->sentence_transformers) (1.24.3)\n",
            "Requirement already satisfied: idna<3,>=2.5 in /usr/local/lib/python3.8/dist-packages (from requests->huggingface-hub>=0.4.0->sentence_transformers) (2.10)\n",
            "Requirement already satisfied: chardet<4,>=3.0.2 in /usr/local/lib/python3.8/dist-packages (from requests->huggingface-hub>=0.4.0->sentence_transformers) (3.0.4)\n",
            "Requirement already satisfied: certifi>=2017.4.17 in /usr/local/lib/python3.8/dist-packages (from requests->huggingface-hub>=0.4.0->sentence_transformers) (2022.12.7)\n",
            "Requirement already satisfied: threadpoolctl>=2.0.0 in /usr/local/lib/python3.8/dist-packages (from scikit-learn->sentence_transformers) (3.1.0)\n",
            "Requirement already satisfied: pillow!=8.3.*,>=5.3.0 in /usr/local/lib/python3.8/dist-packages (from torchvision->sentence_transformers) (7.1.2)\n",
            "Building wheels for collected packages: sentence-transformers\n",
            "  Building wheel for sentence-transformers (setup.py) ... \u001b[?25l\u001b[?25hdone\n",
            "  Created wheel for sentence-transformers: filename=sentence_transformers-2.2.2-py3-none-any.whl size=125938 sha256=1a5ea072ca33459a7448259bebe2351a5609aa13683c670a516a5e081caeb360\n",
            "  Stored in directory: /root/.cache/pip/wheels/5e/6f/8c/d88aec621f3f542d26fac0342bef5e693335d125f4e54aeffe\n",
            "Successfully built sentence-transformers\n",
            "Installing collected packages: tokenizers, huggingface-hub, transformers, sentencepiece, sentence-transformers\n",
            "Successfully installed huggingface-hub-0.11.1 sentence-transformers-2.2.2 sentencepiece-0.1.97 tokenizers-0.13.2 transformers-4.25.1\n"
          ]
        }
      ]
    },
    {
      "cell_type": "code",
      "source": [
        "# import packages\n",
        "import json\n",
        "import os\n",
        "import pandas as pd\n",
        "import math\n",
        "import plotly.express as px\n",
        "from tqdm import tqdm\n",
        "\n",
        "# importing random module\n",
        "import random\n",
        "\n",
        "from sentence_transformers import SentenceTransformer\n",
        "\n",
        "from scipy.spatial.distance import pdist,squareform\n",
        "import matplotlib.pyplot as plt\n",
        "import seaborn as sns\n",
        "import warnings\n",
        "warnings.filterwarnings('ignore')\n",
        "\n",
        "import numpy as np\n",
        "from sklearn.manifold import TSNE"
      ],
      "metadata": {
        "id": "MLWwHu9nisu9"
      },
      "execution_count": null,
      "outputs": []
    },
    {
      "cell_type": "markdown",
      "source": [
        "Load Qulac Dataset"
      ],
      "metadata": {
        "id": "i5Mju1NpWTDB"
      }
    },
    {
      "cell_type": "code",
      "source": [
        "acq_datasets = {'qulac':\n",
        "                {\n",
        "                    'format': 'txt',\n",
        "                    'domains': []\n",
        "                },\n",
        "                'clariq':\n",
        "                {\n",
        "                    'format': 'tsv',\n",
        "                    'domains': []\n",
        "                },\n",
        "                'clarq':\n",
        "                {\n",
        "                    'format': 'txt',\n",
        "                    'domains': []\n",
        "                },\n",
        "                'clariqfw':\n",
        "                {\n",
        "                    'format': 'txt',\n",
        "                    'domains': []\n",
        "                },\n",
        "                'claqua':\n",
        "                {\n",
        "                    'format': 'txt',\n",
        "                    'domains': []\n",
        "                },\n",
        "                'sharc':\n",
        "                {\n",
        "                    'format': 'txt',\n",
        "                    'domains': []\n",
        "                },\n",
        "                'mimics':\n",
        "                {\n",
        "                    'format': 'tsv',\n",
        "                    'domains': []\n",
        "                },\n",
        "                'mimics':\n",
        "                {\n",
        "                    'format': 'txt',\n",
        "                    'domains': []\n",
        "                },\n",
        "                'mimicsduo':\n",
        "                {\n",
        "                    'format': 'txt',\n",
        "                    'domains': []\n",
        "                },\n",
        "                'amazoncq':\n",
        "                {\n",
        "                    'format': 'txt',\n",
        "                    'domains': []\n",
        "                },\n",
        "                'msdialoge':\n",
        "                {\n",
        "                    'format': 'txt',\n",
        "                    'domains': []\n",
        "                },\n",
        "                'mantis':\n",
        "                {\n",
        "                    'format': 'txt',\n",
        "                    'domains': []\n",
        "                },\n",
        "                'tavakolicq':\n",
        "                {\n",
        "                    'format': 'txt',\n",
        "                    'domains': []\n",
        "                },\n",
        "                'raocq':\n",
        "                {\n",
        "                    'format': 'txt',\n",
        "                    'domains': ['askubuntu', 'superuser', 'unixstackexchange']\n",
        "                }\n",
        "              }"
      ],
      "metadata": {
        "id": "7pJadCirr9EL"
      },
      "execution_count": null,
      "outputs": []
    },
    {
      "cell_type": "code",
      "source": [
        "# All datasets\n",
        "# ds_names = ['qulac', 'clariq', 'mimicsduo', 'clariqfw', 'mantis', 'msdialoge', 'mimics', 'tavakolicq', 'amazoncq', 'raocq', 'claqua', 'clarq']\n",
        "\n",
        "# Conv. Search datasets\n",
        "# ds_names = ['qulac', 'clariq', 'mimicsduo', 'clariqfw', 'mantis', 'msdialoge', 'mimics', 'tavakolicq']\n",
        "\n",
        "# Conv. QA\n",
        "ds_names = ['amazoncq', 'raocq', 'claqua', 'clarq']"
      ],
      "metadata": {
        "id": "aGejLY7yYzRr"
      },
      "execution_count": null,
      "outputs": []
    },
    {
      "cell_type": "code",
      "source": [
        "# download datasets: train, test, tune\n",
        "def download_datasets():\n",
        "  ds_root_path = \"datasets/\"\n",
        "  for dataset in ds_names:\n",
        "    dataset_path = os.path.join(ds_root_path, dataset)\n",
        "    if not os.path.isdir(dataset_path):\n",
        "      os.makedirs(dataset_path)\n",
        "      print(\"Directory '%s' is created.\" % dataset_path)\n",
        "    else:\n",
        "      print(\"Directory '%s' is exist.\" % dataset_path)\n",
        "\n",
        "    # -nc: skip downloads that would download to existing files.\n",
        "\n",
        "    if len(acq_datasets[dataset]['domains']) > 0:\n",
        "      for domain in acq_datasets[dataset]['domains']:\n",
        "        try:\n",
        "          os.system(f\"wget -P {dataset_path} -nc https://raw.githubusercontent.com/rahmanidashti/ACQDatasetsSurvey/main/cqs/{dataset}/{dataset}_{domain}.{acq_datasets[dataset]['format']}\")\n",
        "          print(f\"{dataset}_{domain}: The dataset is downloaded.\")\n",
        "        except Expception as e:\n",
        "          print(e)\n",
        "    else:\n",
        "      try:\n",
        "        os.system(f\"wget -P {dataset_path} -nc https://raw.githubusercontent.com/rahmanidashti/ACQDatasetsSurvey/main/cqs/{dataset}/{dataset}.{acq_datasets[dataset]['format']}\")\n",
        "        print(f\"{dataset}: The dataset is downloaded.\")\n",
        "      except Expception as e:\n",
        "        print(e)"
      ],
      "metadata": {
        "id": "fR6-fhUhYvCS"
      },
      "execution_count": null,
      "outputs": []
    },
    {
      "cell_type": "code",
      "source": [
        "download_datasets()"
      ],
      "metadata": {
        "colab": {
          "base_uri": "https://localhost:8080/"
        },
        "id": "Q3WX9-VoZDIL",
        "outputId": "eb076255-8cfa-4eb6-c10f-c7fead0d879d"
      },
      "execution_count": null,
      "outputs": [
        {
          "output_type": "stream",
          "name": "stdout",
          "text": [
            "Directory 'datasets/amazoncq' is created.\n",
            "amazoncq: The dataset is downloaded.\n",
            "Directory 'datasets/raocq' is created.\n",
            "raocq_askubuntu: The dataset is downloaded.\n",
            "raocq_superuser: The dataset is downloaded.\n",
            "raocq_unixstackexchange: The dataset is downloaded.\n",
            "Directory 'datasets/claqua' is created.\n",
            "claqua: The dataset is downloaded.\n",
            "Directory 'datasets/clarq' is created.\n",
            "clarq: The dataset is downloaded.\n"
          ]
        }
      ]
    },
    {
      "cell_type": "code",
      "source": [
        "def CQ_reader(dataset_name=\"qulac\"):\n",
        "\n",
        "  sentences = []\n",
        "\n",
        "  # Qulac\n",
        "  if dataset_name == \"qulac\":\n",
        "    dataset_file = open(\"datasets/qulac/qulac.txt\", 'r')\n",
        "    for cq in dataset_file:\n",
        "      sentences.append(cq)\n",
        "\n",
        "  # ClariQ\n",
        "  elif dataset_name == \"clariq\":\n",
        "    dataset_file = pd.read_csv(\"datasets/clariq/clariq.tsv\", sep='\\t')\n",
        "    # Iterating through the json\n",
        "    for id, cq in dataset_file['question'].items():\n",
        "        sentences.append(cq)\n",
        "\n",
        "  # MIMICS\n",
        "  elif dataset_name == \"mimics\":\n",
        "    dataset_file = open(\"datasets/mimics/mimics.txt\", 'r')\n",
        "    for cq in dataset_file:\n",
        "      sentences.append(cq)\n",
        "\n",
        "  # AmazonCQ\n",
        "  elif dataset_name == \"amazoncq\":\n",
        "    dataset_file = open(\"datasets/amazoncq/amazoncq.txt\", 'r')\n",
        "    for cq in dataset_file:\n",
        "      sentences.append(cq)\n",
        "\n",
        "  # ShARC\n",
        "  elif dataset_name == \"sharc\":\n",
        "    dataset_file = open(\"datasets/sharc/sharc.txt\", 'r')\n",
        "    for cq in dataset_file:\n",
        "      sentences.append(cq)\n",
        "\n",
        "  # MANTis\n",
        "  elif dataset_name == \"mantis\":\n",
        "    dataset_file = open(\"datasets/mantis/mantis.txt\", 'r')\n",
        "    for cq in dataset_file:\n",
        "      sentences.append(cq)\n",
        "\n",
        "  # TavakoliCQ\n",
        "  elif dataset_name == \"tavakolicq\":\n",
        "    dataset_file = open(\"datasets/tavakolicq/tavakolicq.txt\", 'r')\n",
        "    for cq in dataset_file:\n",
        "      sentences.append(cq)\n",
        "\n",
        "  # ClariQ-FW\n",
        "  elif dataset_name == \"clariqfw\":\n",
        "    dataset_file = open(\"datasets/clariqfw/clariqfw.txt\", 'r')\n",
        "    for cq in dataset_file:\n",
        "      sentences.append(cq)\n",
        "\n",
        "  # ClarQ\n",
        "  elif dataset_name == \"clarq\":\n",
        "    dataset_file = open(\"datasets/clarq/clarq.txt\", 'r')\n",
        "    for cq in dataset_file:\n",
        "      sentences.append(cq)\n",
        "\n",
        "  # MIMICS-Duo\n",
        "  elif dataset_name == \"mimicsduo\":\n",
        "    dataset_file = open(\"datasets/mimicsduo/mimicsduo.txt\", 'r')\n",
        "    for cq in dataset_file:\n",
        "      sentences.append(cq)\n",
        "\n",
        "  # MSDialoge\n",
        "  elif dataset_name == \"msdialoge\":\n",
        "    dataset_file = open(\"datasets/msdialoge/msdialoge.txt\", 'r')\n",
        "    for cq in dataset_file:\n",
        "      sentences.append(cq)\n",
        "\n",
        "  # CLAQUA\n",
        "  elif dataset_name == \"claqua\":\n",
        "    dataset_file = open(\"datasets/claqua/claqua.txt\", 'r')\n",
        "    for cq in dataset_file:\n",
        "      sentences.append(cq)\n",
        "\n",
        "  # RaoCQ\n",
        "  elif dataset_name == \"raocq\":\n",
        "    for domain in acq_datasets['raocq']['domains']:\n",
        "      dataset_file = open(f\"datasets/raocq/raocq_{domain}.txt\", 'r')\n",
        "      for cq in dataset_file:\n",
        "        sentences.append(cq)\n",
        "\n",
        "  return sentences"
      ],
      "metadata": {
        "id": "ZgyrHSfBqSER"
      },
      "execution_count": null,
      "outputs": []
    },
    {
      "cell_type": "markdown",
      "source": [
        "Sentence Embeddings using Sentence-BERT"
      ],
      "metadata": {
        "id": "-aYZdz_DWN9s"
      }
    },
    {
      "cell_type": "code",
      "source": [
        "ds_real_names = {'qulac': 'Qulac',\n",
        "                 'clariq': 'ClariQ',\n",
        "                 'mimicsduo': 'MIMICS-Dou',\n",
        "                 'clariqfw': 'ClariQ-FKw',\n",
        "                 'mantis': 'MANtIS',\n",
        "                 'msdialoge': 'MSDialog',\n",
        "                 'mimics': 'MIMICS',\n",
        "                 'tavakolicq': 'TavakoliCQ',\n",
        "                 'amazoncq': 'AmazonCQ',\n",
        "                 'raocq': 'RaoCQ',\n",
        "                 'claqua': 'CLAQUA',\n",
        "                 'clarq': 'ClarQ'}"
      ],
      "metadata": {
        "id": "a4wseMpVtHyq"
      },
      "execution_count": null,
      "outputs": []
    },
    {
      "cell_type": "code",
      "source": [
        "def get_embeddings(sentences):\n",
        "  print(f\" > get_embeddings start processing for {DATASET_NAME}.\")\n",
        "  model = SentenceTransformer('all-distilroberta-v1')\n",
        "\n",
        "  #Sentences are encoded by calling model.encode()\n",
        "  embeddings = model.encode(sentences)\n",
        "  labels = np.array([ds_real_names[DATASET_NAME]] * len(sentences))\n",
        "\n",
        "  print(f\" > get_embeddings finished for {DATASET_NAME}.\\n\")\n",
        "  return embeddings, labels"
      ],
      "metadata": {
        "id": "TYj1HUTIOn1A"
      },
      "execution_count": null,
      "outputs": []
    },
    {
      "cell_type": "code",
      "source": [
        "### Main Part ###\n",
        "\n",
        "all_embeddings = np.ndarray((0, 768))\n",
        "all_labels = np.ndarray((0))\n",
        "\n",
        "for DATASET_NAME in ds_names:\n",
        "  print(f\"----- Dataset Name: {DATASET_NAME} -----\\n\")\n",
        "\n",
        "  # read the CQs (or sentences) of the relevant dataset\n",
        "  sentences = CQ_reader(dataset_name=DATASET_NAME)\n",
        "\n",
        "  # initializing the value of n\n",
        "  CQ_sample_number = 435 # Equal to the number of CQs in MANtIS\n",
        "  print(f\"CQ_sample_number: {CQ_sample_number}\")\n",
        "\n",
        "  # printing n elements from list\n",
        "  sentences = random.choices(sentences, k=CQ_sample_number)\n",
        "\n",
        "  # get the embedding of the CQs (or sentences)\n",
        "  embeddings, labels = get_embeddings(sentences=sentences)\n",
        "\n",
        "  all_embeddings = np.append(all_embeddings, embeddings, axis=0)\n",
        "  all_labels = np.append(all_labels, labels)"
      ],
      "metadata": {
        "colab": {
          "base_uri": "https://localhost:8080/"
        },
        "id": "zMeysCp10tbg",
        "outputId": "b131ef63-a508-4f8d-8d13-524c45b7ada7"
      },
      "execution_count": null,
      "outputs": [
        {
          "output_type": "stream",
          "name": "stdout",
          "text": [
            "----- Dataset Name: amazoncq -----\n",
            "\n",
            "CQ_sample_number: 435\n",
            " > get_embeddings start processing for amazoncq.\n",
            " > get_embeddings finished for amazoncq.\n",
            "\n",
            "----- Dataset Name: raocq -----\n",
            "\n",
            "CQ_sample_number: 435\n",
            " > get_embeddings start processing for raocq.\n",
            " > get_embeddings finished for raocq.\n",
            "\n",
            "----- Dataset Name: claqua -----\n",
            "\n",
            "CQ_sample_number: 435\n",
            " > get_embeddings start processing for claqua.\n",
            " > get_embeddings finished for claqua.\n",
            "\n",
            "----- Dataset Name: clarq -----\n",
            "\n",
            "CQ_sample_number: 435\n",
            " > get_embeddings start processing for clarq.\n",
            " > get_embeddings finished for clarq.\n",
            "\n"
          ]
        }
      ]
    },
    {
      "cell_type": "code",
      "source": [
        "# print dimension\n",
        "all_embeddings.shape, len(all_labels)"
      ],
      "metadata": {
        "colab": {
          "base_uri": "https://localhost:8080/"
        },
        "id": "yTs23Ok6oaIz",
        "outputId": "bfce32c1-f7f9-490c-d8c7-16420f80d962"
      },
      "execution_count": null,
      "outputs": [
        {
          "output_type": "execute_result",
          "data": {
            "text/plain": [
              "((1740, 768), 1740)"
            ]
          },
          "metadata": {},
          "execution_count": 46
        }
      ]
    },
    {
      "cell_type": "code",
      "source": [
        "# To check for Nan\n",
        "array_sum = np.sum(all_embeddings)\n",
        "array_has_nan = np.isnan(array_sum)\n",
        "\n",
        "print(array_has_nan)"
      ],
      "metadata": {
        "colab": {
          "base_uri": "https://localhost:8080/"
        },
        "id": "S9FTOlvWv5PS",
        "outputId": "b8b50730-79f7-4aab-fe6f-6ac91788f66c"
      },
      "execution_count": null,
      "outputs": [
        {
          "output_type": "stream",
          "name": "stdout",
          "text": [
            "False\n"
          ]
        }
      ]
    },
    {
      "cell_type": "code",
      "source": [
        "# NaN incides if exist\n",
        "np.argwhere(all_embeddings!=all_embeddings)"
      ],
      "metadata": {
        "colab": {
          "base_uri": "https://localhost:8080/"
        },
        "id": "UxoZ1BbvwcJC",
        "outputId": "c2b1e0f7-b463-4499-f924-24ed7e6164a7"
      },
      "execution_count": null,
      "outputs": [
        {
          "output_type": "execute_result",
          "data": {
            "text/plain": [
              "array([], shape=(0, 2), dtype=int64)"
            ]
          },
          "metadata": {},
          "execution_count": 49
        }
      ]
    },
    {
      "cell_type": "code",
      "source": [
        "# get tSNE embeddings\n",
        "tsne = TSNE(n_components=2, verbose=1, random_state=123)\n",
        "z = tsne.fit_transform(all_embeddings) "
      ],
      "metadata": {
        "colab": {
          "base_uri": "https://localhost:8080/"
        },
        "id": "-r6sRYK_p-u3",
        "outputId": "538dc067-5049-43b7-f647-c8f5c3cf4e04"
      },
      "execution_count": null,
      "outputs": [
        {
          "output_type": "stream",
          "name": "stdout",
          "text": [
            "[t-SNE] Computing 91 nearest neighbors...\n",
            "[t-SNE] Indexed 1740 samples in 0.002s...\n",
            "[t-SNE] Computed neighbors for 1740 samples in 0.134s...\n",
            "[t-SNE] Computed conditional probabilities for sample 1000 / 1740\n",
            "[t-SNE] Computed conditional probabilities for sample 1740 / 1740\n",
            "[t-SNE] Mean sigma: 0.320651\n",
            "[t-SNE] KL divergence after 250 iterations with early exaggeration: 75.279709\n",
            "[t-SNE] KL divergence after 1000 iterations: 1.537627\n"
          ]
        }
      ]
    },
    {
      "cell_type": "code",
      "source": [
        "df = pd.DataFrame()\n",
        "df[\"Dataset\"] = all_labels\n",
        "df[\"Comp-1\"] = z[:,0]\n",
        "df[\"Comp-2\"] = z[:,1]"
      ],
      "metadata": {
        "id": "TpO7HNbAqOTK"
      },
      "execution_count": null,
      "outputs": []
    },
    {
      "cell_type": "code",
      "source": [
        "# color_seq = ['#AA0DFE',\n",
        "#  '#3283FE',\n",
        "#  '#85660D',\n",
        "#  '#782AB6',\n",
        "#  '#565656',\n",
        "#  '#1C8356',\n",
        "#  '#16FF32',\n",
        "#  '#F7E1A0',\n",
        "#  '#E2E2E2',\n",
        "#  '#1CBE4F',\n",
        "#  '#C4451C',\n",
        "#  '#DEA0FD',\n",
        "#  '#FE00FA',\n",
        "#  '#325A9B',\n",
        "#  '#FEAF16',\n",
        "#  '#F8A19F',\n",
        "#  '#90AD1C',\n",
        "#  '#F6222E',\n",
        "#  '#1CFFCE',\n",
        "#  '#2ED9FF',\n",
        "#  '#B10DA1',\n",
        "#  '#C075A6',\n",
        "#  '#FC1CBF',\n",
        "#  '#B00068',\n",
        "#  '#FBE426',\n",
        "#  '#FA0087']\n",
        "\n",
        "# color_seq = ['#C0E78C', '#ff7f0e', '#2ca02c',  \n",
        "# '#d62728',  \n",
        "# '#9467bd',\n",
        "# '#8c564b', \n",
        "# '#e377c2', \n",
        "# '#7f7f7f', \n",
        "# '#bcbd22', '#17becf']\n",
        "\n",
        "color_seq = ['#666EF2', '#DE6046', '#67CDA6',  \n",
        "'#A167F2',  \n",
        "'#F2A667',\n",
        "'#63D0EF', \n",
        "'#ED7092', \n",
        "'#C0E78C', \n",
        "'#F09CF9', '#F6CD68', '#AF0D78', '#FA0087']\n",
        "\n",
        "# color_discrete_sequence=color_seq,\n",
        " \n",
        "fig = px.scatter(df, x='Comp-1', y='Comp-2', color_discrete_sequence=color_seq, color='Dataset', labels={'color': 'Dataset'})\n",
        "fig.update_layout(showlegend=True, legend=dict(font=dict(size=16)))\n",
        "fig.show()"
      ],
      "metadata": {
        "colab": {
          "base_uri": "https://localhost:8080/",
          "height": 542
        },
        "id": "yjauGRKFgEyl",
        "outputId": "45c671a2-95cc-4877-ed35-49c0a8f8831f"
      },
      "execution_count": null,
      "outputs": [
        {
          "output_type": "display_data",
          "data": {
            "text/html": [
              "<html>\n",
              "<head><meta charset=\"utf-8\" /></head>\n",
              "<body>\n",
              "    <div>            <script src=\"https://cdnjs.cloudflare.com/ajax/libs/mathjax/2.7.5/MathJax.js?config=TeX-AMS-MML_SVG\"></script><script type=\"text/javascript\">if (window.MathJax) {MathJax.Hub.Config({SVG: {font: \"STIX-Web\"}});}</script>                <script type=\"text/javascript\">window.PlotlyConfig = {MathJaxConfig: 'local'};</script>\n",
              "        <script src=\"https://cdn.plot.ly/plotly-2.8.3.min.js\"></script>                <div id=\"a89014f9-6c79-4a94-a723-e9d7302dee9f\" class=\"plotly-graph-div\" style=\"height:525px; width:100%;\"></div>            <script type=\"text/javascript\">                                    window.PLOTLYENV=window.PLOTLYENV || {};                                    if (document.getElementById(\"a89014f9-6c79-4a94-a723-e9d7302dee9f\")) {                    Plotly.newPlot(                        \"a89014f9-6c79-4a94-a723-e9d7302dee9f\",                        [{\"hovertemplate\":\"Dataset=AmazonCQ<br>Comp-1=%{x}<br>Comp-2=%{y}<extra></extra>\",\"legendgroup\":\"AmazonCQ\",\"marker\":{\"color\":\"#666EF2\",\"symbol\":\"circle\"},\"mode\":\"markers\",\"name\":\"AmazonCQ\",\"showlegend\":true,\"x\":[7.240645408630371,24.398155212402344,37.096900939941406,13.906521797180176,18.87958335876465,20.292530059814453,32.22356414794922,20.10835838317871,10.225833892822266,31.145761489868164,25.669382095336914,5.962193012237549,38.82167053222656,24.74128532409668,39.26338195800781,17.351844787597656,23.167264938354492,19.300811767578125,31.72467613220215,5.458134174346924,10.935739517211914,39.215248107910156,26.3051700592041,14.497514724731445,31.379480361938477,25.312891006469727,39.37741470336914,8.969979286193848,20.218141555786133,37.33366394042969,26.325374603271484,43.01043701171875,1.9780757427215576,40.15678787231445,15.885995864868164,33.54948806762695,12.990013122558594,41.426727294921875,13.572015762329102,26.528785705566406,14.971773147583008,42.991241455078125,14.088918685913086,19.146312713623047,8.348949432373047,16.939929962158203,9.557619094848633,20.402681350708008,8.758395195007324,10.833663940429688,10.018912315368652,13.758612632751465,24.664445877075195,10.86687183380127,9.17549991607666,13.920310020446777,23.239524841308594,17.828140258789062,46.035526275634766,19.738779067993164,18.035327911376953,23.618913650512695,27.974454879760742,26.788049697875977,3.0972864627838135,30.377073287963867,11.100936889648438,31.250370025634766,11.510306358337402,7.215822696685791,34.6583137512207,15.745989799499512,10.295639991760254,11.087194442749023,41.96027374267578,34.016639709472656,32.66551208496094,11.871904373168945,17.91090202331543,39.203670501708984,36.25392532348633,41.59859085083008,33.082149505615234,22.293479919433594,30.953567504882812,8.973154067993164,36.63404846191406,42.87185287475586,34.015472412109375,39.49618148803711,19.227285385131836,17.362873077392578,23.281522750854492,3.127978563308716,24.939754486083984,42.33266067504883,34.456661224365234,32.86195373535156,17.42780303955078,21.671464920043945,43.92021560668945,22.90235137939453,35.67192840576172,9.96268367767334,15.215719223022461,17.27349853515625,12.043923377990723,25.02299690246582,37.349388122558594,16.24411964416504,34.960208892822266,-2.3799328804016113,30.236080169677734,7.631443977355957,29.859304428100586,12.072912216186523,41.74108123779297,21.78073501586914,10.403425216674805,38.243011474609375,32.436100006103516,9.63203239440918,11.954227447509766,5.714620113372803,7.557888507843018,26.18665313720703,-17.89270782470703,27.937936782836914,20.06835174560547,4.428552627563477,40.27604293823242,28.354907989501953,42.52764892578125,42.82403564453125,8.825499534606934,9.321144104003906,11.682656288146973,33.919700622558594,32.688941955566406,15.243852615356445,30.3116455078125,43.641357421875,25.796722412109375,7.4742655754089355,25.569787979125977,37.40235900878906,14.53392219543457,12.541522026062012,39.50380325317383,35.216957092285156,5.960190296173096,37.53337097167969,16.899187088012695,11.810782432556152,-20.04827117919922,9.528274536132812,26.970335006713867,14.544012069702148,8.583390235900879,32.45755386352539,18.985973358154297,31.736343383789062,18.238035202026367,33.08088684082031,32.97224807739258,38.65546798706055,18.271793365478516,27.555448532104492,43.33357238769531,36.58253479003906,37.258358001708984,15.98803424835205,10.344849586486816,9.585563659667969,37.8309440612793,10.494622230529785,10.423526763916016,42.721290588378906,17.004161834716797,40.68146514892578,30.460126876831055,16.322402954101562,31.318666458129883,45.485191345214844,9.407414436340332,33.61924362182617,24.71050262451172,13.79687786102295,40.82731246948242,34.25190353393555,20.42459487915039,38.73075866699219,27.852750778198242,6.573246955871582,38.89549255371094,12.554853439331055,8.201654434204102,1.6379680633544922,7.671635150909424,18.858135223388672,25.36920738220215,4.92041015625,13.816544532775879,6.931924819946289,22.752492904663086,7.472070217132568,-5.753483295440674,10.543512344360352,10.254073143005371,34.92594528198242,42.227439880371094,36.01155090332031,13.331103324890137,35.42366409301758,27.079330444335938,11.473176956176758,37.62008285522461,41.12791442871094,13.793441772460938,38.66374206542969,-1.9914230108261108,33.12623596191406,30.00701141357422,35.66688537597656,39.00074005126953,28.093307495117188,26.04290771484375,32.52500534057617,29.86736488342285,41.68709945678711,35.97190856933594,9.18112564086914,32.71044921875,19.28765106201172,47.99385452270508,39.624107360839844,22.026811599731445,17.105798721313477,14.216756820678711,24.466859817504883,30.957929611206055,24.208789825439453,8.903130531311035,14.660013198852539,9.193669319152832,40.35853576660156,8.23698902130127,21.477825164794922,14.02247428894043,39.860740661621094,39.652706146240234,7.808003902435303,34.49016571044922,25.19928550720215,33.17631149291992,43.61466979980469,16.699739456176758,12.968090057373047,12.388420104980469,12.011643409729004,11.896000862121582,12.958782196044922,32.654823303222656,24.253442764282227,40.52710723876953,6.558104991912842,36.12348556518555,12.069859504699707,17.660982131958008,33.50152587890625,29.947315216064453,12.217681884765625,9.580687522888184,45.50242614746094,19.94756317138672,22.790836334228516,33.77640914916992,33.32503128051758,42.15005874633789,47.078678131103516,26.751367568969727,47.74371337890625,35.73212814331055,15.834234237670898,42.32472229003906,25.765562057495117,19.927108764648438,39.103553771972656,15.280479431152344,38.2912483215332,28.898319244384766,39.690147399902344,37.28957748413086,22.919322967529297,10.404167175292969,29.352502822875977,22.0955810546875,34.06297302246094,19.991125106811523,44.19175338745117,22.537118911743164,15.262690544128418,32.17824172973633,40.515228271484375,14.24601936340332,32.55046844482422,28.743595123291016,10.401577949523926,15.835341453552246,25.887977600097656,10.46025562286377,32.4637451171875,27.112751007080078,23.06947135925293,5.108795166015625,-8.446073532104492,45.19316864013672,24.75373077392578,9.69426155090332,29.882028579711914,31.665695190429688,10.591923713684082,44.58303451538086,9.664064407348633,46.540462493896484,38.05007553100586,22.835792541503906,23.415542602539062,10.314542770385742,4.776198863983154,38.19801330566406,25.8064022064209,28.456159591674805,32.152488708496094,30.124855041503906,12.318065643310547,17.155370712280273,23.150341033935547,25.209745407104492,9.315939903259277,20.589000701904297,44.899208068847656,40.4312744140625,20.694486618041992,36.16992950439453,32.796443939208984,43.404361724853516,8.926176071166992,44.07523727416992,39.336360931396484,2.234783172607422,45.49948501586914,12.156951904296875,11.438240051269531,39.816917419433594,18.502737045288086,43.13175582885742,35.19147491455078,18.904190063476562,38.215980529785156,36.89633560180664,38.470794677734375,43.27191925048828,23.02802085876465,23.595861434936523,48.61372756958008,8.926399230957031,42.823421478271484,34.24863815307617,13.678427696228027,20.88941764831543,10.560319900512695,16.402368545532227,23.29595375061035,24.185226440429688,15.542716979980469,39.08132553100586,5.690950870513916,38.539772033691406,28.953184127807617,16.15660285949707,45.6415901184082,10.326506614685059,38.53571319580078,8.63607406616211,20.973979949951172,32.283016204833984,15.2105712890625,43.259944915771484,12.889334678649902,-8.045328140258789,11.174863815307617,28.505542755126953,42.88654327392578,42.700157165527344,45.40167236328125,36.09952926635742,35.097084045410156,27.07378387451172,35.55021667480469,39.32837677001953,20.768556594848633,24.53780174255371,40.19297790527344,32.24969482421875,44.79010009765625,8.44615650177002,33.03342056274414,40.8133659362793,41.595306396484375,19.18868064880371,42.02581024169922,23.16439437866211,41.627685546875,45.813323974609375,26.962133407592773,14.442829132080078,7.29617977142334,11.794623374938965,23.754169464111328,15.38508415222168,26.065692901611328,32.07130813598633,40.613677978515625,24.75617027282715,45.047706604003906,42.823829650878906,28.00373077392578,26.8165225982666,18.080842971801758,32.919429779052734,32.75490188598633,12.191887855529785,34.855506896972656,35.36455535888672],\"xaxis\":\"x\",\"y\":[-27.07213020324707,-6.695496082305908,-24.610017776489258,-17.5904541015625,-26.326372146606445,-23.79874610900879,4.732856750488281,-2.251396656036377,-7.560124397277832,-19.479835510253906,-32.19271469116211,8.132938385009766,-9.919744491577148,15.201382637023926,2.3577098846435547,18.514503479003906,-19.575881958007812,-12.869918823242188,-3.723252296447754,-10.940084457397461,-9.53965950012207,-9.854680061340332,-9.926279067993164,2.401679754257202,-22.517351150512695,2.030801296234131,-21.9241886138916,5.256624698638916,-13.746116638183594,1.1389665603637695,-19.065956115722656,-21.78240394592285,-0.2538909614086151,-1.0984470844268799,-30.866497039794922,-12.38554859161377,-18.271076202392578,1.1644234657287598,-14.611140251159668,-16.681018829345703,-31.136384963989258,-21.617136001586914,-20.603729248046875,-8.367471694946289,-14.218276977539062,-7.775963306427002,-17.238218307495117,-27.49542808532715,-9.244037628173828,-9.462618827819824,13.163293838500977,5.484135627746582,-5.414536476135254,-30.394752502441406,-24.904001235961914,-19.120407104492188,7.255979537963867,-23.005767822265625,-4.182322025299072,-13.978897094726562,-27.06333351135254,-2.074268102645874,-14.803984642028809,-10.661063194274902,-10.408126831054688,-15.585041999816895,0.8717840313911438,-1.4517031908035278,4.109698295593262,-6.013338565826416,-14.80297565460205,-15.14150619506836,-11.881078720092773,-11.296854019165039,-23.478675842285156,-4.866843223571777,-15.238181114196777,-6.7717132568359375,-22.974063873291016,-7.938941478729248,-9.126489639282227,-2.633033275604248,-6.500326156616211,-12.257308959960938,-2.568777561187744,-14.334929466247559,-0.860924482345581,-5.929054260253906,-16.288745880126953,-21.38323402404785,-7.314515113830566,-13.397283554077148,-20.651512145996094,-17.94933319091797,-21.966569900512695,-6.326379299163818,-20.499744415283203,4.686582088470459,-13.821574211120605,-30.536373138427734,-3.533318519592285,-1.1984548568725586,-10.48265552520752,-25.937286376953125,-1.6128761768341064,-4.562450885772705,-12.074112892150879,-17.025527954101562,-13.737579345703125,-19.01482582092285,-15.339517593383789,-12.247943878173828,-7.051705360412598,-12.011999130249023,-3.4787259101867676,-25.27867889404297,-3.4518392086029053,-9.418770790100098,-12.997245788574219,-4.328546524047852,-25.62982940673828,1.3076456785202026,-19.68955421447754,6.35740852355957,-0.7707114815711975,-3.6042022705078125,-20.788475036621094,-6.562632083892822,-10.121452331542969,-15.801551818847656,-14.075186729431152,-0.07083514332771301,5.224656105041504,-7.384731769561768,-28.88994026184082,-10.708944320678711,-28.804340362548828,-13.64680290222168,8.405519485473633,-1.7262368202209473,-22.723434448242188,-0.995451807975769,-13.047420501708984,-10.286640167236328,2.211702346801758,-11.638284683227539,-14.39414119720459,-11.20582389831543,-18.143821716308594,4.782115936279297,-21.67462158203125,-15.526074409484863,-4.456395626068115,-7.418637275695801,21.423702239990234,1.3116402626037598,-9.975042343139648,-5.732481002807617,-24.344139099121094,6.05271053314209,-8.27558708190918,-18.10047149658203,-10.870551109313965,-8.11922550201416,6.4299845695495605,-27.196191787719727,-14.454771041870117,-13.025857925415039,2.842698097229004,-17.411029815673828,-12.94372844696045,-2.2203781604766846,-13.55007553100586,-25.787174224853516,-20.61483383178711,-24.38789939880371,-3.7965543270111084,4.880005836486816,-18.27288818359375,-12.386040687561035,-12.773056983947754,-29.732791900634766,-3.7940361499786377,-2.1300666332244873,3.5627336502075195,-13.881575584411621,-26.586559295654297,-12.42032241821289,-2.646190643310547,-5.074243545532227,-15.753250122070312,-27.219621658325195,-14.91970443725586,-13.587420463562012,0.7110196948051453,-27.342544555664062,-24.88351821899414,-23.35732078552246,-14.950882911682129,-17.206541061401367,-0.5733035802841187,-30.531373977661133,-33.712738037109375,-9.137147903442383,-2.363438367843628,-17.397052764892578,-18.11452865600586,-15.999421119689941,-9.134697914123535,-22.36358642578125,-11.552214622497559,-23.61534881591797,-8.416975975036621,-23.731842041015625,-3.958672523498535,-15.03603458404541,4.556221008300781,-7.338131904602051,-18.772319793701172,-13.955850601196289,-12.406518936157227,6.973412990570068,-25.87610626220703,-25.659452438354492,-1.2330851554870605,-17.691884994506836,-8.830239295959473,-14.062861442565918,-8.762687683105469,-11.74897289276123,-5.664265155792236,-8.051972389221191,3.7446391582489014,-20.94107437133789,-11.563196182250977,-11.78325080871582,-15.609823226928711,-18.038936614990234,-4.970598220825195,-11.928450584411621,-25.79587173461914,-22.34572410583496,-26.322134017944336,-5.152945518493652,-12.534097671508789,-20.649404525756836,-12.209667205810547,-4.939955234527588,-15.532449722290039,3.391968250274658,-12.004772186279297,-6.480091571807861,-6.483548164367676,-8.60178279876709,-4.258036136627197,-0.7445329427719116,-12.936989784240723,-9.415677070617676,-13.46205997467041,-16.90288543701172,-13.04309368133545,-29.251358032226562,-5.883762836456299,-10.734016418457031,1.0825179815292358,-13.250091552734375,-2.4399402141571045,-29.63483238220215,-14.803187370300293,6.75803279876709,-15.646897315979004,-6.427846908569336,-17.512197494506836,-8.960732460021973,-20.729646682739258,-2.308412551879883,-7.798316955566406,-26.695287704467773,-9.564835548400879,-8.092763900756836,-3.6203014850616455,-11.533125877380371,-13.315791130065918,-16.627403259277344,-9.683242797851562,-19.998321533203125,-25.05065155029297,6.821542263031006,-10.904314994812012,-10.927870750427246,-20.704891204833984,-17.101924896240234,-15.231545448303223,-8.912079811096191,-19.70557975769043,-18.851181030273438,-6.618532657623291,-15.8865385055542,-1.7304072380065918,3.3854715824127197,-12.84089183807373,-10.911745071411133,-10.25214672088623,-3.798664093017578,2.3701891899108887,-25.716703414916992,-18.502490997314453,4.247912883758545,-7.726259231567383,-18.28955841064453,-6.984992980957031,-32.219390869140625,-7.356688022613525,-0.5958890318870544,-15.655670166015625,29.416452407836914,-9.541342735290527,-24.285232543945312,4.670756816864014,-17.38764762878418,-22.608854293823242,-3.688206195831299,-12.772429466247559,12.8135404586792,-19.169435501098633,-4.647187232971191,-24.366729736328125,-22.48016357421875,-14.361523628234863,-16.721567153930664,5.027770042419434,-14.1812162399292,-9.944601058959961,-17.740407943725586,-7.331336498260498,5.343554973602295,18.89494514465332,7.196345329284668,-14.489559173583984,-11.336398124694824,-6.191592693328857,-17.222803115844727,-16.42209815979004,-19.94618034362793,-9.392783164978027,1.5148214101791382,-11.12403678894043,-16.234159469604492,-21.82303237915039,3.540837049484253,-22.540292739868164,5.381674766540527,-2.699568271636963,-19.524391174316406,-23.91874885559082,-4.796428680419922,-14.208840370178223,4.82406759262085,-8.785079002380371,0.7559427618980408,-17.90768051147461,-1.9574387073516846,2.8325724601745605,-2.6627297401428223,-13.920964241027832,-11.815108299255371,5.383210182189941,-14.763566970825195,-5.842259407043457,-18.548795700073242,-11.084524154663086,1.5778226852416992,-12.71523666381836,-20.941007614135742,-10.730199813842773,-31.934856414794922,1.8330219984054565,-34.067344665527344,-20.773868560791016,-10.4462308883667,-5.306881904602051,-16.37285804748535,-26.10370445251465,-7.198627948760986,-11.011748313903809,-25.65178680419922,12.50175952911377,-22.949941635131836,-18.447507858276367,-14.754067420959473,34.28080368041992,12.982362747192383,-13.343746185302734,-24.004690170288086,-17.418781280517578,-1.8288297653198242,-7.638279438018799,-13.963281631469727,-5.019016742706299,-19.16088104248047,-23.22920799255371,-5.886484146118164,-6.429941654205322,-10.784351348876953,-31.45774269104004,-17.970468521118164,-23.42558479309082,-11.915982246398926,0.7175796031951904,-4.4131646156311035,-16.43341636657715,-22.60232925415039,-8.770950317382812,-6.4021477699279785,-3.3841586112976074,-9.719290733337402,-31.088420867919922,-6.13541316986084,-9.53587818145752,4.954155921936035,-31.475248336791992,-2.1655936241149902,49.49790954589844,-19.754192352294922,-23.716459274291992,-16.83016586303711,-17.74781608581543,-24.9743709564209,-19.050640106201172,-3.2682931423187256,-2.098572015762329,-2.7993741035461426,-16.84375762939453,-23.984527587890625,3.9581730365753174],\"yaxis\":\"y\",\"type\":\"scattergl\"},{\"hovertemplate\":\"Dataset=RaoCQ<br>Comp-1=%{x}<br>Comp-2=%{y}<extra></extra>\",\"legendgroup\":\"RaoCQ\",\"marker\":{\"color\":\"#DE6046\",\"symbol\":\"circle\"},\"mode\":\"markers\",\"name\":\"RaoCQ\",\"showlegend\":true,\"x\":[13.904973983764648,26.935131072998047,32.81388854980469,19.179704666137695,19.174659729003906,-18.537567138671875,-1.1076948642730713,-12.34463882446289,9.3602876663208,19.861255645751953,-28.28923225402832,30.464601516723633,31.384658813476562,30.18695068359375,25.496368408203125,-14.43990421295166,7.149928092956543,-8.15869426727295,20.60433578491211,-1.6091017723083496,-3.9447033405303955,19.239456176757812,17.437110900878906,-7.5860185623168945,0.596366822719574,13.46879768371582,9.14816665649414,35.26630783081055,23.0902156829834,14.283884048461914,-0.9734431505203247,-15.566972732543945,6.792566299438477,31.683914184570312,10.113574028015137,31.999267578125,-8.256755828857422,29.76125717163086,0.2961644232273102,18.595426559448242,34.404170989990234,-17.20219612121582,-14.047990798950195,8.031356811523438,27.29210090637207,30.647092819213867,-5.245956897735596,1.639588475227356,28.014015197753906,25.32487678527832,29.004037857055664,-8.527633666992188,23.638093948364258,13.720808982849121,6.045943260192871,5.789085388183594,11.848605155944824,15.406378746032715,1.7999480962753296,4.365818977355957,12.031902313232422,11.283930778503418,-5.072556018829346,4.680700302124023,3.754499673843384,19.99117088317871,9.972542762756348,-5.649782180786133,-8.953071594238281,3.4248781204223633,-0.37710973620414734,16.9180908203125,0.6620322465896606,28.190702438354492,21.82306671142578,9.209236145019531,-10.935127258300781,-17.227821350097656,14.995803833007812,15.329900741577148,8.970807075500488,30.353775024414062,33.287574768066406,0.6761953830718994,0.13651064038276672,10.284788131713867,-21.959815979003906,1.0191280841827393,25.78508949279785,12.585838317871094,-1.3112810850143433,10.373292922973633,15.528164863586426,27.464183807373047,28.657833099365234,0.5310009717941284,12.96407699584961,27.7711181640625,1.8990825414657593,-0.42785021662712097,23.733556747436523,-21.04081916809082,3.0962188243865967,-5.118519306182861,0.49847620725631714,13.953338623046875,-3.8154029846191406,-10.439322471618652,33.07442092895508,0.5342013835906982,39.775726318359375,3.969611167907715,21.77106475830078,28.389591217041016,11.505887031555176,33.653343200683594,30.669044494628906,-11.248018264770508,-4.161515712738037,6.067601680755615,-3.6483314037323,24.31149673461914,31.734107971191406,15.174898147583008,21.42442512512207,-2.494239091873169,16.04768180847168,29.946741104125977,17.65848159790039,2.0311076641082764,12.771198272705078,15.674548149108887,5.2711639404296875,13.07072639465332,-23.339174270629883,20.584009170532227,-13.653376579284668,0.6406837701797485,13.892281532287598,8.358601570129395,-3.3795650005340576,-11.98030948638916,28.548765182495117,-21.70662498474121,1.3612416982650757,17.11802864074707,2.2537918090820312,-13.334912300109863,1.1931501626968384,-4.150051116943359,2.168421506881714,31.71368408203125,3.3046281337738037,9.751533508300781,32.032630920410156,22.93582534790039,10.075888633728027,10.143587112426758,30.520336151123047,10.420879364013672,-2.7568557262420654,26.090539932250977,30.830963134765625,13.331649780273438,3.571643352508545,-5.361334323883057,4.971175193786621,15.206075668334961,17.938533782958984,16.921306610107422,-2.5792934894561768,11.537300109863281,20.501258850097656,17.69308853149414,30.52943229675293,28.19883155822754,6.2547173500061035,0.04196704551577568,1.3948118686676025,26.919654846191406,21.975950241088867,0.04126904159784317,20.03538703918457,-3.3898262977600098,23.373140335083008,30.083091735839844,-11.578261375427246,29.498279571533203,13.178082466125488,-6.644396781921387,19.173492431640625,20.06366729736328,29.67160415649414,19.006549835205078,7.87935733795166,0.07327645272016525,-3.570420503616333,12.38444995880127,26.43605613708496,10.464020729064941,-1.2541412115097046,16.81387710571289,31.867900848388672,-9.9312105178833,32.29789352416992,20.678396224975586,33.147945404052734,13.043192863464355,13.584126472473145,13.614480018615723,20.279264450073242,11.309041023254395,28.224367141723633,27.78778839111328,19.07256317138672,24.188858032226562,21.397533416748047,8.946229934692383,-17.909496307373047,12.77122974395752,-6.706918239593506,-1.12671959400177,38.16856384277344,-6.7191619873046875,-2.0508055686950684,26.87335968017578,16.69077491760254,10.100014686584473,18.619443893432617,14.17540454864502,0.5282483100891113,35.637550354003906,8.85718822479248,3.4178621768951416,3.5493669509887695,11.295814514160156,12.759418487548828,10.493659973144531,19.126388549804688,29.263107299804688,11.580732345581055,28.380739212036133,1.4693623781204224,17.999622344970703,29.16309928894043,25.45799446105957,-11.123740196228027,-0.7282153964042664,11.02614974975586,16.697763442993164,10.536687850952148,19.03519058227539,42.07236862182617,-2.720798969268799,-5.693479537963867,-17.461435317993164,28.325414657592773,-3.936176061630249,34.716453552246094,11.589715957641602,-2.3678176403045654,23.699474334716797,27.990121841430664,-4.161718368530273,5.533587455749512,19.333024978637695,5.4704718589782715,24.861711502075195,-7.775092124938965,20.65087890625,-4.028779029846191,-18.368520736694336,8.310437202453613,3.254244804382324,-0.1398819088935852,22.827577590942383,2.45821475982666,3.3159964084625244,2.2627806663513184,19.227855682373047,11.196025848388672,41.21595001220703,18.46513557434082,23.61795425415039,-7.749800682067871,12.090045928955078,10.83425521850586,15.230738639831543,31.766197204589844,-11.275412559509277,14.3383150100708,29.36612319946289,-10.863210678100586,13.868850708007812,13.270779609680176,24.894424438476562,16.180814743041992,25.89568519592285,12.206221580505371,-1.5342915058135986,-17.326526641845703,20.405179977416992,-17.80185317993164,10.750683784484863,-0.7039415240287781,-3.232893943786621,-0.9713067412376404,5.792428493499756,24.651979446411133,19.398990631103516,24.74968719482422,-11.04832935333252,13.809149742126465,31.228713989257812,7.556112766265869,2.534627676010132,19.46126937866211,13.878178596496582,7.007523536682129,11.544477462768555,26.280832290649414,2.0434834957122803,-0.4191679060459137,15.941556930541992,2.8643624782562256,13.130597114562988,-14.89022159576416,20.738187789916992,27.64756965637207,18.412675857543945,4.353584289550781,3.639202833175659,-18.762176513671875,10.880938529968262,15.655789375305176,24.272390365600586,26.734907150268555,27.832380294799805,3.9495224952697754,45.611942291259766,13.672109603881836,22.6390323638916,18.233104705810547,22.9199275970459,0.9940481781959534,13.270811080932617,16.0927734375,0.7323187589645386,-17.017650604248047,-5.061333179473877,16.994709014892578,-6.260004997253418,11.860002517700195,32.0869140625,-2.3684208393096924,23.792741775512695,15.828304290771484,-8.254804611206055,-0.3016752600669861,-22.376523971557617,-20.478090286254883,28.56151580810547,17.273008346557617,22.96748924255371,2.1417629718780518,18.274415969848633,8.331169128417969,-0.02866678684949875,7.018847465515137,40.660301208496094,13.051472663879395,0.44099918007850647,31.325912475585938,5.23072624206543,-1.3936893939971924,15.768852233886719,19.918975830078125,2.0923573970794678,5.445937633514404,30.839447021484375,33.818939208984375,14.744451522827148,18.10818862915039,8.821942329406738,11.22752857208252,19.17969512939453,-1.9425197839736938,-5.5774688720703125,-14.804607391357422,19.841764450073242,19.728065490722656,-0.3036547601222992,19.84893226623535,31.467487335205078,20.71494483947754,3.118723154067993,-5.786521911621094,17.241315841674805,4.89739465713501,0.07384418696165085,23.535701751708984,11.692502975463867,-7.391262054443359,-5.173355579376221,27.1870174407959,-10.911966323852539,8.46865177154541,22.75401496887207,18.440277099609375,-9.26205825805664,27.81212615966797,30.66367530822754,-11.688326835632324,3.9608006477355957,-11.09587574005127,16.517845153808594,-1.1662086248397827,0.4395482540130615,-2.8237695693969727,38.639522552490234,-2.806506633758545,-20.995338439941406,21.606101989746094,19.726593017578125,-4.045073509216309,-24.194089889526367,-5.196696758270264,35.549556732177734,15.933355331420898,-1.8560044765472412,23.72459602355957,28.81159019470215,-15.863349914550781,24.786582946777344,6.054393768310547],\"xaxis\":\"x\",\"y\":[43.223819732666016,31.42207145690918,24.534038543701172,28.87532615661621,53.857383728027344,17.66875457763672,29.672361373901367,34.51559066772461,30.695173263549805,54.04534912109375,11.266432762145996,39.42216110229492,39.9031982421875,43.122257232666016,43.79454803466797,30.312959671020508,47.207088470458984,43.13108444213867,55.5655403137207,34.83838653564453,38.58547592163086,25.674238204956055,44.53437805175781,44.44887161254883,-30.8619327545166,46.9506721496582,50.6622428894043,23.12220573425293,32.934635162353516,24.617136001586914,28.26375389099121,32.53928756713867,31.32988739013672,23.958580017089844,54.95334243774414,13.171090126037598,39.25640106201172,48.10559844970703,28.937604904174805,38.05554962158203,31.056018829345703,34.84573745727539,30.265743255615234,36.118507385253906,30.089366912841797,50.38595962524414,36.97733688354492,30.527759552001953,47.30851745605469,51.01177978515625,40.65854263305664,21.69611930847168,55.41523361206055,43.643306732177734,27.744604110717773,48.3340950012207,53.34189987182617,31.490785598754883,28.112417221069336,42.464324951171875,30.498106002807617,42.09596633911133,18.959726333618164,31.969764709472656,40.54991912841797,47.94683074951172,47.56509017944336,47.46637725830078,33.089454650878906,32.01018142700195,55.432865142822266,19.343215942382812,33.39118957519531,45.82004928588867,37.88013458251953,53.67737579345703,28.064340591430664,29.29410171508789,36.14518737792969,38.32544708251953,31.796815872192383,45.803253173828125,39.01642608642578,31.344343185424805,55.53313446044922,31.967071533203125,-20.445688247680664,49.7356071472168,44.60648727416992,46.140464782714844,26.484413146972656,38.48458480834961,55.4876823425293,50.240272521972656,40.94853591918945,28.993566513061523,34.20863342285156,28.470808029174805,50.79849624633789,14.289600372314453,15.413847923278809,20.58219337463379,30.91083335876465,35.34833526611328,46.6354866027832,50.7330322265625,35.35905075073242,32.04838562011719,30.94903564453125,47.09217071533203,15.467004776000977,40.289154052734375,-30.731836318969727,46.550777435302734,53.31006622314453,30.664445877075195,46.95811080932617,-14.058817863464355,30.0183048248291,23.051151275634766,39.63148880004883,39.07924270629883,23.992036819458008,46.83458709716797,29.325336456298828,31.89614486694336,56.698917388916016,25.34551429748535,44.57380294799805,35.45343780517578,23.728906631469727,44.29145431518555,42.416168212890625,49.67695999145508,19.169567108154297,56.362632751464844,29.1824951171875,26.103187561035156,29.44805335998535,36.39631271362305,35.394168853759766,37.885440826416016,28.851119995117188,25.578275680541992,27.029985427856445,-27.65808868408203,33.55106735229492,30.43909454345703,37.22922134399414,10.707416534423828,49.574188232421875,47.93756103515625,17.30211639404297,28.428260803222656,29.945037841796875,33.322715759277344,54.97182846069336,39.87669372558594,27.254545211791992,41.78358459472656,34.4097785949707,47.10497283935547,42.370361328125,57.808555603027344,31.25155258178711,46.46957015991211,46.75467300415039,29.012096405029297,56.44163131713867,45.96595001220703,31.660924911499023,26.723569869995117,53.239654541015625,49.58773422241211,24.87592887878418,-28.239652633666992,48.6745491027832,51.1337776184082,31.638776779174805,45.709259033203125,46.8820915222168,26.242639541625977,-15.443692207336426,28.185367584228516,15.399662971496582,28.17304039001465,42.3375129699707,46.18376159667969,25.40532684326172,48.113548278808594,31.47731590270996,31.706819534301758,47.428123474121094,40.9919319152832,-8.368560791015625,48.285072326660156,20.167898178100586,46.70377731323242,30.033607482910156,30.311609268188477,15.405680656433105,50.278099060058594,35.96143341064453,32.86550521850586,42.3675651550293,35.718746185302734,23.264482498168945,33.47563552856445,38.535369873046875,57.008209228515625,52.454498291015625,48.02517318725586,46.34999465942383,27.182157516479492,31.330535888671875,47.08443832397461,-13.639803886413574,21.72859764099121,24.498531341552734,23.728437423706055,16.46291160583496,27.457277297973633,44.28445816040039,25.188371658325195,36.400367736816406,48.15755844116211,59.89815902709961,49.31074523925781,45.23310089111328,55.411930084228516,34.768184661865234,6.47265100479126,21.810453414916992,48.9422492980957,32.21073532104492,49.80121994018555,31.695682525634766,29.916109085083008,49.27665328979492,36.154579162597656,48.04751968383789,44.278682708740234,28.244796752929688,51.94688034057617,38.714637756347656,27.777999877929688,43.71580123901367,11.52345085144043,35.3759765625,59.74406051635742,25.09900665283203,45.333927154541016,11.669449806213379,29.92593002319336,13.629399299621582,-19.77290153503418,27.06068992614746,38.509220123291016,17.492313385009766,40.480186462402344,29.446962356567383,47.93996047973633,29.334924697875977,34.98090744018555,27.628210067749023,54.71635437011719,38.77374267578125,29.993494033813477,38.09803009033203,43.25307083129883,32.67821502685547,21.31704330444336,15.153839111328125,25.51325798034668,12.998472213745117,49.86328887939453,16.351957321166992,52.42246627807617,48.40079879760742,25.822603225708008,40.85373306274414,9.564157485961914,51.99076461791992,35.906524658203125,15.841080665588379,26.677688598632812,27.023704528808594,47.02667999267578,48.89910888671875,24.30758285522461,31.711002349853516,23.430463790893555,27.95741081237793,55.58395767211914,38.0695915222168,50.99896240234375,40.738075256347656,49.57793045043945,35.58015060424805,48.46495819091797,25.013551712036133,27.788068771362305,-30.896343231201172,44.93915939331055,30.756216049194336,42.96556091308594,11.292972564697266,44.47870635986328,22.968368530273438,50.04344177246094,36.5286979675293,35.38129425048828,26.854412078857422,41.27168273925781,51.628013610839844,45.36765670776367,34.78200912475586,36.29052734375,48.02967834472656,50.854949951171875,30.49997901916504,49.324100494384766,14.200244903564453,44.378318786621094,35.42860412597656,50.12741470336914,32.50229263305664,50.736698150634766,16.73397445678711,53.76971435546875,17.948720932006836,43.8514404296875,17.593563079833984,44.9415168762207,35.46846008300781,47.06214141845703,25.95212173461914,42.613773345947266,44.73067092895508,7.265557765960693,54.005367279052734,10.907005310058594,42.113224029541016,44.595008850097656,48.183048248291016,38.726314544677734,40.81809997558594,47.99180221557617,24.974018096923828,36.6958122253418,54.29364776611328,40.56815719604492,31.715099334716797,42.3700065612793,17.586824417114258,51.69727325439453,52.22285079956055,42.66689682006836,6.532303333282471,23.515625,20.953723907470703,27.129812240600586,36.27222442626953,8.731392860412598,47.779296875,48.87604904174805,46.73283004760742,37.66811752319336,27.95960807800293,12.247824668884277,33.715675354003906,38.187801361083984,22.209571838378906,38.01924133300781,27.71367645263672,28.225595474243164,52.34416198730469,44.28455352783203,44.78444290161133,22.60531997680664,4.73950719833374,56.90628433227539,56.66958999633789,46.279014587402344,22.96027946472168,28.875654220581055,-21.473421096801758,47.593379974365234,21.779117584228516,35.37916564941406,52.190025329589844,35.7605094909668,50.2358512878418,23.405000686645508,25.046119689941406,53.01271438598633,31.581148147583008,52.838645935058594,20.263978958129883,55.517601013183594,44.80377197265625,33.50459289550781,12.471444129943848,-18.192659378051758,6.398316860198975,24.216550827026367,40.63851547241211,49.520294189453125,38.01850891113281,18.18280792236328,52.30318832397461,26.537355422973633,42.24421691894531,45.964942932128906,43.54823684692383,38.77299880981445,45.36105728149414,33.360374450683594,17.184104919433594,8.61564826965332,33.61323165893555,30.68364143371582,37.74749755859375,41.79096603393555,42.227691650390625,27.632028579711914,33.67315673828125,36.37200927734375,31.117769241333008,36.08913040161133,35.903846740722656,28.36297607421875,28.582717895507812,34.98965072631836,42.162513732910156],\"yaxis\":\"y\",\"type\":\"scattergl\"},{\"hovertemplate\":\"Dataset=CLAQUA<br>Comp-1=%{x}<br>Comp-2=%{y}<extra></extra>\",\"legendgroup\":\"CLAQUA\",\"marker\":{\"color\":\"#67CDA6\",\"symbol\":\"circle\"},\"mode\":\"markers\",\"name\":\"CLAQUA\",\"showlegend\":true,\"x\":[-10.96537971496582,-26.222579956054688,-31.70210075378418,-31.287208557128906,-45.35983657836914,-18.4960880279541,-29.275814056396484,-31.759096145629883,15.413189888000488,-51.43772506713867,-44.95353698730469,-51.09639358520508,-23.002153396606445,-15.158602714538574,-32.18434143066406,-34.49324035644531,-22.354822158813477,-32.21820831298828,-17.872005462646484,-30.629493713378906,-23.501754760742188,-41.39580154418945,-30.756887435913086,-23.072721481323242,-50.464317321777344,-6.96331787109375,-21.8621768951416,-29.03026008605957,-31.056005477905273,-51.4821662902832,-35.14826202392578,-39.84468078613281,-15.818037986755371,-45.41680145263672,-47.00362777709961,-41.70281982421875,-15.581195831298828,-47.48762893676758,-46.737571716308594,-42.017398834228516,10.28076171875,-49.506683349609375,-30.697473526000977,-35.45481491088867,-17.756790161132812,-44.97322463989258,-38.79030227661133,-38.36201095581055,-31.1242733001709,-32.909969329833984,-42.65427017211914,-35.43745422363281,-24.8494873046875,-11.3272066116333,-10.070138931274414,18.088651657104492,-23.51491928100586,-26.307697296142578,-52.444969177246094,-28.702144622802734,-14.705575942993164,-36.92987823486328,17.20383071899414,-45.02239990234375,-27.34071922302246,-35.01433181762695,-42.043006896972656,-46.47456741333008,33.44822692871094,17.2733154296875,-29.109785079956055,-13.70946216583252,-39.92426300048828,-50.19728088378906,-44.968238830566406,-30.848283767700195,-30.947954177856445,-9.99768352508545,-30.463367462158203,-29.67860221862793,-31.887374877929688,-40.838226318359375,-19.362096786499023,-39.60859298706055,-45.649375915527344,-34.93436813354492,-16.51052474975586,-32.99264144897461,-25.742202758789062,-30.478681564331055,-31.66742706298828,-27.789546966552734,-48.761478424072266,-12.957594871520996,-18.497045516967773,37.26515197753906,-26.432472229003906,-49.060325622558594,-18.453458786010742,-35.64031982421875,-21.404098510742188,-44.309059143066406,-34.48894500732422,-35.42710494995117,-50.72488021850586,-48.88225555419922,-51.48189163208008,-33.02565002441406,-33.70790481567383,-33.86686706542969,-22.63814926147461,-38.97062683105469,20.36173439025879,-40.840518951416016,-21.759675979614258,-29.247488021850586,-16.657405853271484,-30.680227279663086,-13.700207710266113,-28.87982940673828,-33.115455627441406,-37.11872863769531,-32.09360885620117,-16.676162719726562,-15.449514389038086,-45.68893051147461,-45.015262603759766,-46.8575439453125,-33.77259826660156,-44.25006866455078,-34.60820007324219,-45.8154411315918,-24.95112419128418,-35.87279510498047,-39.32511901855469,-27.042177200317383,41.92179870605469,-30.23378562927246,-48.63058090209961,-41.071075439453125,-20.714488983154297,-33.0872688293457,-14.249523162841797,-16.835399627685547,-5.087862491607666,-43.2430419921875,-36.3919677734375,-33.076744079589844,-28.0845947265625,-21.53636932373047,-36.42461013793945,-32.161563873291016,-27.832223892211914,2.9596974849700928,-38.414161682128906,-14.50412654876709,-44.4266357421875,-28.262845993041992,-23.76091194152832,-17.95819091796875,-34.20155715942383,-36.59044647216797,-45.13071823120117,-21.862178802490234,-33.33363342285156,-26.24118995666504,-21.93400764465332,-9.335912704467773,-26.788637161254883,-44.03396224975586,-34.47358703613281,-45.17448425292969,-25.087778091430664,-37.7711067199707,18.72002410888672,-22.847991943359375,18.26888656616211,-7.0173749923706055,-15.266379356384277,-12.72182846069336,36.33274459838867,-28.05286979675293,11.261452674865723,-24.999523162841797,-49.2706298828125,-8.642020225524902,-33.057823181152344,-29.727384567260742,-37.402164459228516,-46.737247467041016,-14.310039520263672,-48.46967315673828,12.635245323181152,-25.676620483398438,-37.971900939941406,-49.0025749206543,-20.239124298095703,-37.9071159362793,-21.4338321685791,-26.478715896606445,-2.160327434539795,-35.44904327392578,-29.203752517700195,-50.04014587402344,0.14191804826259613,-40.77701187133789,-20.793790817260742,-29.278963088989258,-22.5887393951416,-21.798254013061523,-10.869484901428223,-34.55002212524414,-30.550107955932617,-40.759578704833984,-11.162153244018555,-22.92157554626465,-33.65412902832031,-10.295957565307617,16.572599411010742,-23.41855812072754,-25.224454879760742,9.116646766662598,-36.41067123413086,-48.14765167236328,-45.42354965209961,-41.96126174926758,-31.575096130371094,-15.829031944274902,-15.962085723876953,-31.04620361328125,-10.429226875305176,-7.642160415649414,-31.429168701171875,-48.80859375,-30.96297264099121,-28.025955200195312,-33.860599517822266,-37.879234313964844,-18.680936813354492,-37.37240982055664,-39.213623046875,-40.64896011352539,-29.909074783325195,-42.96111297607422,-38.61253356933594,-37.04912185668945,-47.29936218261719,-43.349937438964844,-41.087310791015625,-31.295705795288086,-29.457778930664062,-42.61759567260742,-26.11435317993164,-27.38783073425293,-2.150641679763794,-51.93714904785156,-32.31816482543945,-32.383460998535156,-44.02195739746094,-29.136960983276367,-43.06045913696289,-50.38517379760742,-33.105262756347656,-36.56353759765625,-29.171241760253906,-39.86548614501953,-30.472200393676758,-51.368709564208984,-36.219451904296875,-31.477863311767578,-34.919307708740234,-26.794281005859375,-33.21955871582031,18.87405776977539,-46.46982955932617,-23.1790771484375,-51.297420501708984,-17.84041976928711,-36.47220993041992,-38.8667106628418,-32.866004943847656,-27.977500915527344,-33.44895935058594,-26.438085556030273,-27.243026733398438,-39.67293930053711,-34.190269470214844,-1.6547023057937622,10.748141288757324,-30.850013732910156,-13.354350090026855,0.09229060262441635,-31.662160873413086,-42.22346115112305,-24.45075225830078,-36.1108512878418,-43.04008102416992,-51.31275177001953,-32.37747573852539,-32.58380126953125,-49.57032012939453,-33.21636199951172,-29.89248275756836,-45.14274597167969,-10.103865623474121,-19.270654678344727,-48.764286041259766,-18.505794525146484,-32.62893295288086,-51.026588439941406,-42.45672607421875,17.909570693969727,-5.1638336181640625,-31.07686996459961,-13.762454986572266,-38.64026641845703,-7.285048007965088,-26.706729888916016,36.65860366821289,-35.89755630493164,-15.711174964904785,-11.300567626953125,-40.72249984741211,-21.599285125732422,-52.6375617980957,-17.085838317871094,-26.76093292236328,-25.74425506591797,-51.31855392456055,-44.39030075073242,-32.04543685913086,-31.775888442993164,-47.835994720458984,-39.81993865966797,-18.819927215576172,-14.839166641235352,-25.28435707092285,-24.615816116333008,-21.407331466674805,-11.03331184387207,-24.821727752685547,-11.691998481750488,-39.4730110168457,-25.74959945678711,-37.20061492919922,37.617435455322266,-50.910179138183594,-6.47046422958374,-33.9974250793457,-34.56447219848633,-8.715734481811523,-40.90485382080078,-40.890830993652344,-19.603755950927734,-33.197227478027344,-35.772972106933594,-50.93415832519531,-43.579620361328125,-44.80339050292969,-41.407474517822266,-11.280083656311035,-10.547640800476074,17.907886505126953,-38.87184143066406,-8.49167537689209,11.027546882629395,-45.4234619140625,-26.02948760986328,13.203166961669922,0.3326556086540222,-15.542635917663574,-9.981548309326172,-29.610729217529297,-29.892488479614258,-39.42958068847656,-18.24054718017578,-42.8422966003418,-24.22776222229004,-48.90826416015625,-18.645559310913086,-26.472763061523438,-31.837505340576172,-43.136878967285156,-39.772911071777344,-33.60868453979492,-9.113256454467773,-18.23307991027832,-24.590557098388672,-36.66408157348633,-36.20779037475586,-46.82456970214844,-42.8912239074707,-40.858463287353516,-33.091819763183594,-29.59308624267578,-36.94272232055664,-22.14215087890625,-28.958251953125,-18.43903923034668,-6.851090908050537,-37.77109909057617,-45.643253326416016,-22.793476104736328,-6.356414794921875,-51.43657302856445,-19.85358428955078,6.991230010986328,-11.96655559539795,-42.48414611816406,-24.303098678588867,-11.063773155212402,-40.67734909057617,-32.13427734375,-30.753517150878906,-10.17102336883545,-15.474885940551758,-31.629812240600586,-18.413223266601562,-39.2032470703125,-19.248388290405273,-34.3475341796875,-51.436885833740234,-18.658248901367188,-33.07923889160156,-32.82258224487305,-30.85618019104004,-34.133331298828125,-48.80865478515625,-51.307979583740234,-33.48984146118164,-27.873313903808594,-31.81166648864746,-44.03339385986328,-28.05284881591797,-18.438901901245117],\"xaxis\":\"x\",\"y\":[-31.0058536529541,-44.968116760253906,-23.047107696533203,-37.51373291015625,-27.829683303833008,-50.00162887573242,-29.304845809936523,-55.33274841308594,-37.87211990356445,-35.69343185424805,-37.96152114868164,-25.467872619628906,-29.406536102294922,-42.16738510131836,-44.42918395996094,-48.86576843261719,-39.800270080566406,-16.524856567382812,-39.866676330566406,-51.234737396240234,-36.99745178222656,-47.68787384033203,-36.58539962768555,-47.4990119934082,-27.092519760131836,-21.372684478759766,-52.938148498535156,-51.11216735839844,-22.856895446777344,-26.517419815063477,-30.544755935668945,-17.3595027923584,-44.364341735839844,-27.830602645874023,-29.081789016723633,-24.695661544799805,-33.18595504760742,-31.762832641601562,-40.7144660949707,-19.843605041503906,-34.35842514038086,-37.39411926269531,-25.756437301635742,-17.964773178100586,-23.4627685546875,-38.294498443603516,-41.20231628417969,-34.6053352355957,-54.10312271118164,-52.862613677978516,-31.261884689331055,-50.064720153808594,-42.51216506958008,-48.039249420166016,-40.10821533203125,-36.07841110229492,-49.65849685668945,-47.11454772949219,-37.40776824951172,-34.65198516845703,-34.89424133300781,-37.77180099487305,-38.94565963745117,-39.049102783203125,-37.75117492675781,-20.531848907470703,-21.067670822143555,-37.32196044921875,27.115938186645508,-36.58098220825195,-42.40986251831055,-19.39719581604004,-17.8564510345459,-23.650209426879883,-35.66132736206055,-52.20774459838867,-47.760292053222656,-28.717988967895508,-32.014766693115234,-34.479454040527344,-44.077171325683594,-49.00663375854492,-26.691829681396484,-37.19057083129883,-16.398250579833984,-43.620967864990234,-41.85070037841797,-28.904630661010742,-40.07502365112305,-30.286312103271484,-20.457651138305664,-39.86410140991211,-38.10646438598633,-34.49514389038086,-43.97058868408203,22.385005950927734,-46.927371978759766,-30.667463302612305,-39.70038604736328,-19.2287540435791,-41.86550521850586,-33.20207977294922,-17.956756591796875,-40.62494659423828,-21.964223861694336,-23.69361686706543,-26.517333984375,-24.45379638671875,-37.52851104736328,-18.20180892944336,-42.76912307739258,-16.15286636352539,-35.73691177368164,-23.86589813232422,-39.11690139770508,-41.72771072387695,-48.671112060546875,-46.983009338378906,-19.459331512451172,-55.18474578857422,-50.27628707885742,-31.24614143371582,-44.72877883911133,-43.84416580200195,-27.78805923461914,-30.894580841064453,-16.68709373474121,-40.838844299316406,-54.58807373046875,-42.9697380065918,-40.55964660644531,-36.15290832519531,-25.30586814880371,-29.322021484375,-13.179472923278809,-38.351341247558594,-26.920907974243164,-52.34283447265625,-28.59317398071289,-47.10167694091797,-36.96568298339844,-48.05943298339844,-29.15874481201172,-41.80289840698242,-37.6693229675293,-18.013225555419922,-31.43860626220703,-26.45762825012207,-50.78126525878906,-46.86174774169922,-32.72146987915039,-14.899338722229004,-50.60114288330078,-26.764028549194336,-22.387466430664062,-34.08110809326172,-43.19780349731445,-51.73265838623047,-42.56267547607422,-15.425105094909668,-48.32380294799805,-17.364105224609375,-16.649974822998047,-52.93714141845703,-29.981346130371094,-21.286304473876953,-33.156375885009766,-44.71908187866211,-54.38387680053711,-27.590158462524414,-20.75507926940918,-32.035282135009766,-37.00616455078125,-27.307878494262695,-29.097909927368164,-42.90462112426758,-39.87934112548828,-32.27027130126953,-41.05256271362305,-34.66909408569336,22.931921005249023,-27.691343307495117,-34.89590072631836,-49.51313781738281,-29.341337203979492,-45.50290298461914,-47.13500213623047,-41.22157287597656,-29.184324264526367,-29.184680938720703,-45.385337829589844,-35.04768753051758,-34.99238967895508,-39.80816650390625,-34.17811965942383,-41.021297454833984,-26.03778648376465,-19.94776153564453,-46.830223083496094,-41.15340805053711,-29.654052734375,-17.88532257080078,-49.590267181396484,-22.593416213989258,-40.50758361816406,-42.09629821777344,-36.79826354980469,-31.186582565307617,-26.713523864746094,-32.24104690551758,-45.081321716308594,-52.382686614990234,-47.101016998291016,-22.527441024780273,-24.505203247070312,-33.189720153808594,-40.29905700683594,-47.74692153930664,8.773858070373535,-50.069725036621094,-44.903282165527344,-35.05939483642578,-24.025178909301758,-32.38773727416992,-12.572596549987793,-24.894115447998047,-14.310129165649414,-39.2432975769043,-40.31794357299805,-52.879825592041016,-45.5091667175293,-26.214126586914062,-55.56222152709961,-35.79853057861328,-34.28660202026367,-24.491029739379883,-31.033809661865234,-30.05548858642578,-22.72193717956543,-32.71339416503906,-26.52739906311035,-16.669038772583008,-53.51322555541992,-15.796799659729004,-41.15450668334961,-44.62944793701172,-24.020605087280273,-33.67631149291992,-41.879180908203125,-48.75044631958008,-53.5921516418457,-42.468955993652344,-21.17405891418457,-54.335174560546875,-29.752492904663086,-23.296161651611328,-23.681169509887695,-31.485074996948242,-38.86964416503906,-30.8341121673584,-14.60057544708252,-27.86507797241211,-49.87688064575195,-24.03937339782715,-29.99627113342285,-37.2752571105957,-27.35982322692871,-21.980934143066406,-48.18470001220703,-41.008419036865234,-4.468642711639404,-46.75743103027344,-20.161853790283203,-40.61382293701172,-29.73159408569336,-36.81751251220703,-31.04583168029785,-43.558292388916016,-32.59352111816406,-26.027185440063477,-20.876176834106445,-36.831703186035156,-47.86421585083008,-30.778059005737305,-32.76005554199219,-12.087695121765137,-25.66192054748535,-32.23858642578125,-34.12712097167969,-49.79273986816406,-38.717987060546875,-40.97247314453125,-19.979694366455078,-22.592374801635742,-37.08695602416992,-30.488662719726562,-14.821083068847656,-36.03129577636719,-21.666828155517578,-45.87940979003906,-21.87767791748047,-32.294349670410156,-17.82516098022461,-20.540069580078125,-40.07124710083008,-39.64649200439453,-23.895774841308594,-37.339691162109375,-31.380456924438477,-33.75529479980469,-18.768156051635742,-36.166481018066406,-37.68856430053711,-34.10405349731445,-29.029850006103516,-22.8867130279541,-44.86399841308594,-43.69029235839844,22.733028411865234,-40.879554748535156,-39.49334716796875,-24.06932258605957,9.771099090576172,-31.7508602142334,-37.48902893066406,-42.38912582397461,-39.8482551574707,-54.75851821899414,-24.11989974975586,-25.954696655273438,-53.88968276977539,-51.6469612121582,-24.289295196533203,-32.05500793457031,-49.85309982299805,-30.6287784576416,-24.72835922241211,-41.080604553222656,-22.824758529663086,-30.55097770690918,-46.4530143737793,-45.9139518737793,-42.04052734375,-48.19223403930664,-31.98213768005371,22.893131256103516,-28.495288848876953,-19.280120849609375,-32.189544677734375,-34.19875717163086,-48.22480392456055,-21.7421875,-48.94649124145508,-44.382240295410156,-25.167264938354492,-34.73028564453125,-37.07658767700195,-18.3416748046875,-37.37464141845703,-38.26364517211914,-23.32962417602539,-31.75249671936035,-39.48972702026367,-28.000261306762695,-48.43272399902344,-35.13398361206055,-12.57249641418457,-45.927974700927734,-39.815467834472656,-40.58750534057617,-27.6567440032959,-45.76285171508789,-20.861454010009766,-17.825170516967773,-12.986940383911133,-48.56471252441406,-38.31425476074219,-32.04106140136719,-29.549219131469727,-15.397869110107422,-38.623878479003906,-57.398460388183594,-18.583255767822266,-29.184436798095703,-45.27027893066406,-46.239994049072266,-50.21931457519531,-38.97083282470703,-49.495975494384766,-48.056888580322266,-30.63984489440918,-27.546344757080078,-19.54822540283203,-43.29755783081055,-55.08660888671875,-37.777374267578125,-39.42610549926758,-50.27757263183594,-34.095787048339844,-32.171321868896484,-27.307880401611328,-32.02984619140625,-48.12191390991211,-31.944896697998047,-34.69814682006836,-15.047760963439941,-25.214111328125,-36.122711181640625,-31.05206298828125,-32.669376373291016,-48.005184173583984,-43.275848388671875,-53.18012237548828,-22.990121841430664,-46.586788177490234,-36.20285415649414,-18.838844299316406,-47.553916931152344,-28.68942642211914,-26.778690338134766,-32.47340393066406,-31.130882263183594,-22.30984878540039,-36.993125915527344,-52.71953201293945,-39.026329040527344,-34.94563674926758,-35.79840850830078,-21.64919090270996,-10.324956893920898,-11.963789939880371,-41.7298469543457,-19.31941032409668,-27.69131851196289,-34.09556579589844],\"yaxis\":\"y\",\"type\":\"scattergl\"},{\"hovertemplate\":\"Dataset=ClarQ<br>Comp-1=%{x}<br>Comp-2=%{y}<extra></extra>\",\"legendgroup\":\"ClarQ\",\"marker\":{\"color\":\"#A167F2\",\"symbol\":\"circle\"},\"mode\":\"markers\",\"name\":\"ClarQ\",\"showlegend\":true,\"x\":[21.701034545898438,-12.045047760009766,29.6713809967041,-20.795856475830078,-11.228408813476562,17.752765655517578,48.8152961730957,-7.729018211364746,28.225637435913086,-24.01926612854004,4.424447059631348,-21.05938148498535,21.021642684936523,-3.6811559200286865,-16.83110237121582,-6.84789514541626,-9.721028327941895,-4.7239789962768555,8.77706527709961,48.24337387084961,-16.049942016601562,10.031601905822754,-22.14809799194336,-1.4953258037567139,-36.13810348510742,9.560466766357422,-33.56195831298828,-24.33078956604004,-33.27204513549805,-13.456215858459473,-40.00335693359375,-30.404159545898438,-9.17813777923584,-5.195867538452148,5.125696182250977,-18.729000091552734,-6.659475803375244,-10.764845848083496,19.394535064697266,-39.236820220947266,-13.172487258911133,3.0008490085601807,46.982627868652344,-12.531055450439453,-3.9827871322631836,13.452333450317383,-8.24061393737793,-40.24930191040039,0.30828148126602173,-13.497635841369629,-12.733116149902344,-23.639209747314453,8.63695240020752,-32.50984573364258,24.386613845825195,-17.99197769165039,-7.747045040130615,22.588172912597656,-13.449139595031738,-6.650166988372803,-24.4765625,-36.351478576660156,-20.237092971801758,6.664096832275391,17.15420913696289,-12.328803062438965,-8.161445617675781,-18.233322143554688,-7.371194839477539,9.559562683105469,-17.02036476135254,32.13542556762695,-15.99980354309082,-31.641286849975586,-0.7181983590126038,1.5185070037841797,-7.159824848175049,-12.573637962341309,-16.206417083740234,-23.050992965698242,7.3812785148620605,-32.62179183959961,10.347281455993652,10.58354377746582,4.6828718185424805,11.822017669677734,27.82855224609375,-7.6621479988098145,-22.290292739868164,-2.357574939727783,-19.968463897705078,-25.26841163635254,-29.59787940979004,18.553346633911133,32.20298385620117,11.540634155273438,27.644241333007812,8.510662078857422,-36.51244354248047,-15.620107650756836,2.0301363468170166,-12.783473014831543,-23.50457763671875,-33.39381790161133,-38.62085723876953,-33.366878509521484,18.1672420501709,-18.29144287109375,-17.489822387695312,-16.998804092407227,-3.7571635246276855,-20.886444091796875,-12.135716438293457,-2.4488067626953125,26.424468994140625,-7.761664390563965,-13.613785743713379,27.97405433654785,-41.11213684082031,-27.29527473449707,-19.817935943603516,14.827386856079102,-15.097097396850586,-19.32170867919922,-11.185134887695312,-19.238204956054688,-5.813043594360352,-6.952174186706543,-18.7375431060791,-11.131282806396484,-16.764026641845703,-26.25444221496582,23.7000675201416,-21.389911651611328,-35.716888427734375,18.19212532043457,-16.532913208007812,-4.992520332336426,-2.7361810207366943,-3.401435613632202,-11.14061450958252,48.35567092895508,16.599233627319336,-24.832307815551758,-6.57155179977417,-19.137561798095703,26.657176971435547,-34.47692108154297,38.32568359375,-37.00355529785156,-1.6682482957839966,-26.77156639099121,-33.513038635253906,29.270984649658203,-30.14922523498535,4.931467056274414,-29.40665054321289,-5.631062984466553,-15.327155113220215,-21.745086669921875,-21.28169059753418,-1.2814346551895142,-8.872530937194824,-10.117537498474121,-14.661310195922852,-22.195802688598633,-20.017780303955078,-16.633251190185547,16.311994552612305,-20.805139541625977,-23.432146072387695,34.9675407409668,22.584026336669922,-3.2512428760528564,-9.055293083190918,-6.820987701416016,-27.455062866210938,28.4323787689209,-35.73914337158203,-7.985540390014648,-21.99802589416504,-20.555326461791992,-34.46198272705078,-32.28385925292969,9.690073013305664,-40.56492233276367,-31.090547561645508,17.730812072753906,-21.467700958251953,-27.917739868164062,1.9633252620697021,-5.204717636108398,-11.173559188842773,3.298741579055786,-30.91335105895996,-28.25099754333496,-0.2604967951774597,-6.587008476257324,-19.316757202148438,-11.693007469177246,-9.923160552978516,-31.482988357543945,29.259849548339844,-0.25077471137046814,-35.18519973754883,-5.198104381561279,4.2630815505981445,-4.7958984375,-18.55083656311035,-8.652619361877441,18.454740524291992,34.7075309753418,-31.35098648071289,-32.415889739990234,-2.321605920791626,33.2984504699707,-18.800628662109375,-34.66252899169922,-1.909095048904419,-9.85096263885498,-19.454641342163086,16.554141998291016,-7.57007360458374,-9.96830940246582,-2.0512633323669434,-12.369763374328613,49.824337005615234,-32.407020568847656,29.621057510375977,31.0445613861084,31.06216812133789,-8.758170127868652,-4.876564025878906,-10.401007652282715,-18.5360107421875,-35.942813873291016,29.1419677734375,-4.214783668518066,44.4672966003418,-24.529014587402344,-25.444486618041992,-13.74876880645752,-28.777881622314453,-14.607634544372559,-3.3774707317352295,13.105719566345215,-14.592573165893555,-26.324703216552734,-11.105238914489746,-33.327091217041016,-31.796781539916992,-2.2714481353759766,41.43538284301758,-31.57310676574707,-35.27752685546875,50.40566635131836,-31.240196228027344,8.672883987426758,-20.763519287109375,34.930931091308594,-31.116397857666016,-18.068431854248047,5.9904351234436035,-23.924850463867188,37.41426086425781,-18.491439819335938,-27.653701782226562,-15.168965339660645,-5.66471529006958,35.53202438354492,-12.746193885803223,-18.792570114135742,-4.200942516326904,10.26506519317627,-6.93619441986084,-17.745952606201172,-37.7998046875,-36.60908126831055,-10.546039581298828,-17.81622886657715,4.567647933959961,2.1523382663726807,-16.92559242248535,-23.165224075317383,-13.182861328125,26.611482620239258,-0.5271254777908325,-21.739341735839844,-13.702159881591797,-9.933140754699707,-26.385595321655273,-24.827688217163086,-13.416688919067383,8.644852638244629,21.442893981933594,-25.06947135925293,-7.00098180770874,-33.76535415649414,0.6172313094139099,17.19123649597168,-19.994081497192383,-11.541751861572266,-5.293769359588623,-21.288101196289062,-12.585792541503906,30.816932678222656,-5.334488868713379,-8.980402946472168,20.48847198486328,-11.614601135253906,-18.8872013092041,-33.38051986694336,38.237396240234375,-9.900357246398926,6.626842021942139,6.105477333068848,34.63698196411133,-17.674488067626953,-3.981996536254883,27.103378295898438,-7.646392345428467,8.348468780517578,-14.434060096740723,-2.379822015762329,-4.565358638763428,9.578011512756348,22.220516204833984,32.27479553222656,-25.082759857177734,-15.261094093322754,21.711923599243164,-33.79107666015625,6.46880578994751,31.411069869995117,7.185693740844727,-5.027077674865723,-4.999178886413574,-15.445823669433594,22.800518035888672,48.38777160644531,24.96613121032715,-25.3820743560791,-0.15214143693447113,-10.247542381286621,2.392458200454712,-32.66606903076172,-24.77103042602539,15.454866409301758,-11.938619613647461,-34.72446823120117,-39.59971237182617,-25.11103630065918,-19.9093017578125,-20.731351852416992,-30.54627227783203,-13.28227424621582,-9.739066123962402,-10.971536636352539,-13.925683975219727,-11.512081146240234,3.4364609718322754,-15.884754180908203,-33.66172409057617,17.82697868347168,-11.32353401184082,-32.160552978515625,-23.47305679321289,-24.70077133178711,-21.636568069458008,14.9356107711792,-11.252870559692383,-20.012216567993164,-4.070300102233887,-11.824023246765137,-24.98724365234375,-19.479785919189453,-4.790112018585205,-6.480966567993164,38.660484313964844,-30.702409744262695,-15.574663162231445,-3.5051708221435547,-20.212453842163086,-19.378612518310547,-21.45204734802246,-14.96333122253418,-11.150172233581543,-9.357821464538574,35.34950256347656,-18.013874053955078,-21.08983612060547,14.858316421508789,-11.01552963256836,35.81526565551758,-6.196598052978516,-35.67345428466797,-22.460376739501953,-8.127419471740723,22.945096969604492,26.45833396911621,-28.395912170410156,-3.3715932369232178,1.2897549867630005,-18.679819107055664,-15.629515647888184,-6.459197521209717,45.32300567626953,-12.082844734191895,-31.474679946899414,-4.008020877838135,-22.062442779541016,-0.681013286113739,-14.121792793273926,-32.28493881225586,24.477092742919922,-35.60491943359375,-9.401700973510742,-8.414766311645508,-10.979879379272461,-15.593599319458008,9.311808586120605,34.70635223388672,-17.18830680847168,-10.891873359680176,-3.343426465988159,-21.835826873779297,1.8817106485366821,-0.27715784311294556,-19.69567108154297,-6.329321384429932,6.289770603179932,1.9901632070541382,-10.220465660095215,-8.871383666992188,-15.87594223022461],\"xaxis\":\"x\",\"y\":[53.31288528442383,-25.290409088134766,3.388427495956421,5.6487860679626465,12.07983684539795,1.6834665536880493,-3.3836991786956787,37.592586517333984,25.896678924560547,-1.7621636390686035,52.93415832519531,7.9510955810546875,41.58728790283203,5.994712829589844,0.8036928772926331,-21.592472076416016,4.5321502685546875,13.26160717010498,30.27923583984375,-7.970590591430664,-2.212381362915039,-27.21068000793457,-13.118047714233398,31.98560333251953,33.76370620727539,18.892358779907227,39.98877716064453,18.69791603088379,40.80583953857422,-4.670725345611572,12.286542892456055,39.55376052856445,-43.044822692871094,21.38306999206543,-8.596396446228027,-3.7323503494262695,9.424591064453125,35.62853240966797,-0.7849631905555725,11.832538604736328,-5.271554946899414,42.21148681640625,-0.8833702206611633,3.581106424331665,16.17046356201172,2.1652965545654297,5.345508098602295,12.413772583007812,19.9342041015625,-8.74637508392334,6.731852054595947,16.140361785888672,43.60710525512695,42.16734313964844,55.728614807128906,6.660212516784668,-1.744874358177185,-17.48236083984375,-9.135601043701172,9.273470878601074,12.533845901489258,31.574893951416016,-3.966865062713623,37.817142486572266,35.19799041748047,18.297985076904297,12.72380542755127,-2.5085792541503906,50.52693176269531,44.188323974609375,3.4403741359710693,-30.652936935424805,19.57344627380371,34.02699279785156,41.72154998779297,6.053980350494385,34.86036682128906,0.3767935633659363,27.801898956298828,4.923956871032715,51.780460357666016,40.71409225463867,32.41136932373047,-36.15573501586914,11.24283218383789,43.45647048950195,5.578185558319092,-5.7695112228393555,-43.786293029785156,-5.803144454956055,27.192298889160156,5.776587009429932,15.378456115722656,13.154169082641602,39.296974182128906,36.48088836669922,16.763761520385742,34.89714813232422,28.98829460144043,5.529179573059082,22.321836471557617,-1.565557599067688,4.173155784606934,34.33815002441406,13.228401184082031,17.996904373168945,3.3619649410247803,26.478130340576172,35.15171813964844,-5.078117370605469,-5.209290027618408,-0.8056893944740295,2.6198596954345703,1.10016930103302,-33.20036697387695,-1.4543815851211548,-7.448146343231201,-28.71279525756836,13.61144733428955,18.874347686767578,6.831064701080322,41.34413146972656,14.08581829071045,26.721132278442383,-2.457975387573242,-6.1776442527771,-12.647916793823242,1.3198127746582031,11.89278793334961,-14.016471862792969,32.592594146728516,13.938507080078125,42.28413391113281,-13.562766075134277,31.278505325317383,12.538749694824219,3.671372175216675,31.636613845825195,-24.131288528442383,-10.753950119018555,-22.07049560546875,-23.0839900970459,8.773452758789062,2.3112003803253174,40.31333541870117,-6.661594867706299,38.192054748535156,34.86164855957031,44.98433303833008,33.43567657470703,21.365644454956055,14.680791854858398,41.68060302734375,42.48834991455078,17.76380157470703,11.097190856933594,41.17914962768555,-9.73356819152832,1.398514986038208,-22.365497589111328,12.318168640136719,17.671810150146484,-1.192315936088562,19.412700653076172,1.6146131753921509,-13.111859321594238,45.13566589355469,30.61213493347168,47.407012939453125,13.339432716369629,-9.610809326171875,8.75377082824707,0.5767609477043152,55.923152923583984,-34.73876953125,25.26106071472168,19.478729248046875,-21.4727840423584,33.345970153808594,-16.578994750976562,5.792579174041748,5.100107192993164,40.76353454589844,41.303951263427734,19.754066467285156,11.860889434814453,43.44027328491211,32.75505828857422,12.260485649108887,12.910183906555176,0.07101321220397949,22.55854606628418,3.429661512374878,14.604198455810547,-11.719831466674805,11.606377601623535,9.861556053161621,1.5254453420639038,5.193714618682861,45.836181640625,9.891757011413574,12.274665832519531,8.591219902038574,41.695823669433594,32.741817474365234,-3.6715195178985596,55.42107391357422,18.7170467376709,-0.30411458015441895,14.674344062805176,-32.46073532104492,-18.723114013671875,40.276573181152344,18.220111846923828,-29.11090850830078,38.877193450927734,27.594680786132812,-3.8985581398010254,0.9069918990135193,17.937116622924805,37.61724853515625,32.898807525634766,-5.606746196746826,30.738296508789062,-22.90948486328125,2.3971779346466064,-4.62465763092041,39.77484130859375,-10.991092681884766,6.536388397216797,43.59278106689453,-6.9911274909973145,-12.959275245666504,23.830244064331055,0.16109205782413483,34.84459686279297,36.23127365112305,10.680092811584473,11.500863075256348,26.236608505249023,-29.460355758666992,39.57770919799805,16.124401092529297,13.699812889099121,-5.27384090423584,41.43083572387695,14.381316184997559,-30.975854873657227,2.4245142936706543,31.946613311767578,18.47553825378418,37.47943878173828,7.889945030212402,11.035452842712402,31.880760192871094,-5.103631973266602,12.644505500793457,14.746759414672852,-0.7978793978691101,32.76051712036133,38.69571304321289,-3.8853068351745605,2.717644453048706,-1.6883726119995117,-18.38129425048828,-4.046064376831055,-11.203444480895996,0.43425270915031433,20.939130783081055,36.58905792236328,-9.953968048095703,4.5000901222229,27.683940887451172,57.2024040222168,19.89482307434082,1.8145948648452759,32.589988708496094,32.492401123046875,-3.140028476715088,-30.81806755065918,-13.090784072875977,1.404069423675537,7.773806571960449,19.30254364013672,5.042083740234375,-33.39738082885742,32.949893951416016,25.717121124267578,10.807201385498047,24.744674682617188,22.493436813354492,-17.222291946411133,21.870546340942383,12.08711051940918,6.7956743240356445,25.052127838134766,48.63596725463867,33.5812873840332,18.82969856262207,40.1354866027832,1.9894652366638184,-3.6358418464660645,-3.3022866249084473,3.785740852355957,34.6324577331543,-0.4918564260005951,17.893888473510742,39.767269134521484,6.557647228240967,19.538658142089844,-7.178736209869385,-10.296675682067871,44.54372787475586,-1.0016887187957764,34.13157653808594,35.50934982299805,7.532268047332764,1.9482362270355225,23.25090217590332,42.0372428894043,10.829113960266113,40.7213020324707,3.273033618927002,55.75150680541992,22.045610427856445,33.4404182434082,5.599490642547607,9.244019508361816,18.684730529785156,41.73843002319336,38.89963912963867,34.89897537231445,-5.0576605796813965,21.03716278076172,45.16674041748047,2.0209877490997314,42.07054138183594,3.801604986190796,35.46287155151367,-7.949695587158203,38.855918884277344,24.330297470092773,18.9425048828125,1.8460408449172974,16.05099105834961,33.48868942260742,1.7086436748504639,-7.9313154220581055,38.2855110168457,31.647462844848633,-11.319507598876953,11.94438648223877,30.925167083740234,-41.76242446899414,41.80699920654297,39.33403778076172,-34.64427185058594,-7.485591411590576,-17.608299255371094,13.283431053161621,6.083437442779541,-6.9566826820373535,41.6569938659668,1.8263252973556519,11.678547859191895,18.35031509399414,13.979147911071777,2.8667733669281006,3.323533296585083,33.611209869384766,-2.7277157306671143,45.134681701660156,6.160140514373779,38.81154251098633,-17.443674087524414,13.726042747497559,2.3839049339294434,-38.1733283996582,46.513397216796875,42.11009216308594,8.811490058898926,-10.586936950683594,6.105374813079834,31.46844482421875,-6.46681022644043,15.067997932434082,-6.705480575561523,14.420183181762695,30.364547729492188,6.517031669616699,14.854488372802734,48.577674865722656,49.46554946899414,20.735305786132812,16.516376495361328,39.99671936035156,14.470829963684082,5.415637493133545,37.8955078125,-22.961517333984375,-7.363103866577148,18.518735885620117,-2.882253885269165,12.119516372680664,5.259073734283447,-47.067745208740234,-12.402729034423828,0.0689813494682312,40.88055419921875,1.1629149913787842,-9.733194351196289,-16.588788986206055,27.032665252685547,38.702728271484375,7.169222354888916,32.02973175048828,-10.760541915893555,18.28311538696289,-5.529825210571289,-7.67166805267334,38.816749572753906,17.420896530151367,12.957194328308105,17.46172523498535,4.462401390075684,-9.67525863647461,5.958597660064697,-39.43975067138672,2.476591110229492,-44.419681549072266,35.32697677612305,-9.817402839660645,-0.6752203106880188,10.541097640991211,-7.308498382568359],\"yaxis\":\"y\",\"type\":\"scattergl\"}],                        {\"template\":{\"data\":{\"bar\":[{\"error_x\":{\"color\":\"#2a3f5f\"},\"error_y\":{\"color\":\"#2a3f5f\"},\"marker\":{\"line\":{\"color\":\"#E5ECF6\",\"width\":0.5},\"pattern\":{\"fillmode\":\"overlay\",\"size\":10,\"solidity\":0.2}},\"type\":\"bar\"}],\"barpolar\":[{\"marker\":{\"line\":{\"color\":\"#E5ECF6\",\"width\":0.5},\"pattern\":{\"fillmode\":\"overlay\",\"size\":10,\"solidity\":0.2}},\"type\":\"barpolar\"}],\"carpet\":[{\"aaxis\":{\"endlinecolor\":\"#2a3f5f\",\"gridcolor\":\"white\",\"linecolor\":\"white\",\"minorgridcolor\":\"white\",\"startlinecolor\":\"#2a3f5f\"},\"baxis\":{\"endlinecolor\":\"#2a3f5f\",\"gridcolor\":\"white\",\"linecolor\":\"white\",\"minorgridcolor\":\"white\",\"startlinecolor\":\"#2a3f5f\"},\"type\":\"carpet\"}],\"choropleth\":[{\"colorbar\":{\"outlinewidth\":0,\"ticks\":\"\"},\"type\":\"choropleth\"}],\"contour\":[{\"colorbar\":{\"outlinewidth\":0,\"ticks\":\"\"},\"colorscale\":[[0.0,\"#0d0887\"],[0.1111111111111111,\"#46039f\"],[0.2222222222222222,\"#7201a8\"],[0.3333333333333333,\"#9c179e\"],[0.4444444444444444,\"#bd3786\"],[0.5555555555555556,\"#d8576b\"],[0.6666666666666666,\"#ed7953\"],[0.7777777777777778,\"#fb9f3a\"],[0.8888888888888888,\"#fdca26\"],[1.0,\"#f0f921\"]],\"type\":\"contour\"}],\"contourcarpet\":[{\"colorbar\":{\"outlinewidth\":0,\"ticks\":\"\"},\"type\":\"contourcarpet\"}],\"heatmap\":[{\"colorbar\":{\"outlinewidth\":0,\"ticks\":\"\"},\"colorscale\":[[0.0,\"#0d0887\"],[0.1111111111111111,\"#46039f\"],[0.2222222222222222,\"#7201a8\"],[0.3333333333333333,\"#9c179e\"],[0.4444444444444444,\"#bd3786\"],[0.5555555555555556,\"#d8576b\"],[0.6666666666666666,\"#ed7953\"],[0.7777777777777778,\"#fb9f3a\"],[0.8888888888888888,\"#fdca26\"],[1.0,\"#f0f921\"]],\"type\":\"heatmap\"}],\"heatmapgl\":[{\"colorbar\":{\"outlinewidth\":0,\"ticks\":\"\"},\"colorscale\":[[0.0,\"#0d0887\"],[0.1111111111111111,\"#46039f\"],[0.2222222222222222,\"#7201a8\"],[0.3333333333333333,\"#9c179e\"],[0.4444444444444444,\"#bd3786\"],[0.5555555555555556,\"#d8576b\"],[0.6666666666666666,\"#ed7953\"],[0.7777777777777778,\"#fb9f3a\"],[0.8888888888888888,\"#fdca26\"],[1.0,\"#f0f921\"]],\"type\":\"heatmapgl\"}],\"histogram\":[{\"marker\":{\"pattern\":{\"fillmode\":\"overlay\",\"size\":10,\"solidity\":0.2}},\"type\":\"histogram\"}],\"histogram2d\":[{\"colorbar\":{\"outlinewidth\":0,\"ticks\":\"\"},\"colorscale\":[[0.0,\"#0d0887\"],[0.1111111111111111,\"#46039f\"],[0.2222222222222222,\"#7201a8\"],[0.3333333333333333,\"#9c179e\"],[0.4444444444444444,\"#bd3786\"],[0.5555555555555556,\"#d8576b\"],[0.6666666666666666,\"#ed7953\"],[0.7777777777777778,\"#fb9f3a\"],[0.8888888888888888,\"#fdca26\"],[1.0,\"#f0f921\"]],\"type\":\"histogram2d\"}],\"histogram2dcontour\":[{\"colorbar\":{\"outlinewidth\":0,\"ticks\":\"\"},\"colorscale\":[[0.0,\"#0d0887\"],[0.1111111111111111,\"#46039f\"],[0.2222222222222222,\"#7201a8\"],[0.3333333333333333,\"#9c179e\"],[0.4444444444444444,\"#bd3786\"],[0.5555555555555556,\"#d8576b\"],[0.6666666666666666,\"#ed7953\"],[0.7777777777777778,\"#fb9f3a\"],[0.8888888888888888,\"#fdca26\"],[1.0,\"#f0f921\"]],\"type\":\"histogram2dcontour\"}],\"mesh3d\":[{\"colorbar\":{\"outlinewidth\":0,\"ticks\":\"\"},\"type\":\"mesh3d\"}],\"parcoords\":[{\"line\":{\"colorbar\":{\"outlinewidth\":0,\"ticks\":\"\"}},\"type\":\"parcoords\"}],\"pie\":[{\"automargin\":true,\"type\":\"pie\"}],\"scatter\":[{\"marker\":{\"colorbar\":{\"outlinewidth\":0,\"ticks\":\"\"}},\"type\":\"scatter\"}],\"scatter3d\":[{\"line\":{\"colorbar\":{\"outlinewidth\":0,\"ticks\":\"\"}},\"marker\":{\"colorbar\":{\"outlinewidth\":0,\"ticks\":\"\"}},\"type\":\"scatter3d\"}],\"scattercarpet\":[{\"marker\":{\"colorbar\":{\"outlinewidth\":0,\"ticks\":\"\"}},\"type\":\"scattercarpet\"}],\"scattergeo\":[{\"marker\":{\"colorbar\":{\"outlinewidth\":0,\"ticks\":\"\"}},\"type\":\"scattergeo\"}],\"scattergl\":[{\"marker\":{\"colorbar\":{\"outlinewidth\":0,\"ticks\":\"\"}},\"type\":\"scattergl\"}],\"scattermapbox\":[{\"marker\":{\"colorbar\":{\"outlinewidth\":0,\"ticks\":\"\"}},\"type\":\"scattermapbox\"}],\"scatterpolar\":[{\"marker\":{\"colorbar\":{\"outlinewidth\":0,\"ticks\":\"\"}},\"type\":\"scatterpolar\"}],\"scatterpolargl\":[{\"marker\":{\"colorbar\":{\"outlinewidth\":0,\"ticks\":\"\"}},\"type\":\"scatterpolargl\"}],\"scatterternary\":[{\"marker\":{\"colorbar\":{\"outlinewidth\":0,\"ticks\":\"\"}},\"type\":\"scatterternary\"}],\"surface\":[{\"colorbar\":{\"outlinewidth\":0,\"ticks\":\"\"},\"colorscale\":[[0.0,\"#0d0887\"],[0.1111111111111111,\"#46039f\"],[0.2222222222222222,\"#7201a8\"],[0.3333333333333333,\"#9c179e\"],[0.4444444444444444,\"#bd3786\"],[0.5555555555555556,\"#d8576b\"],[0.6666666666666666,\"#ed7953\"],[0.7777777777777778,\"#fb9f3a\"],[0.8888888888888888,\"#fdca26\"],[1.0,\"#f0f921\"]],\"type\":\"surface\"}],\"table\":[{\"cells\":{\"fill\":{\"color\":\"#EBF0F8\"},\"line\":{\"color\":\"white\"}},\"header\":{\"fill\":{\"color\":\"#C8D4E3\"},\"line\":{\"color\":\"white\"}},\"type\":\"table\"}]},\"layout\":{\"annotationdefaults\":{\"arrowcolor\":\"#2a3f5f\",\"arrowhead\":0,\"arrowwidth\":1},\"autotypenumbers\":\"strict\",\"coloraxis\":{\"colorbar\":{\"outlinewidth\":0,\"ticks\":\"\"}},\"colorscale\":{\"diverging\":[[0,\"#8e0152\"],[0.1,\"#c51b7d\"],[0.2,\"#de77ae\"],[0.3,\"#f1b6da\"],[0.4,\"#fde0ef\"],[0.5,\"#f7f7f7\"],[0.6,\"#e6f5d0\"],[0.7,\"#b8e186\"],[0.8,\"#7fbc41\"],[0.9,\"#4d9221\"],[1,\"#276419\"]],\"sequential\":[[0.0,\"#0d0887\"],[0.1111111111111111,\"#46039f\"],[0.2222222222222222,\"#7201a8\"],[0.3333333333333333,\"#9c179e\"],[0.4444444444444444,\"#bd3786\"],[0.5555555555555556,\"#d8576b\"],[0.6666666666666666,\"#ed7953\"],[0.7777777777777778,\"#fb9f3a\"],[0.8888888888888888,\"#fdca26\"],[1.0,\"#f0f921\"]],\"sequentialminus\":[[0.0,\"#0d0887\"],[0.1111111111111111,\"#46039f\"],[0.2222222222222222,\"#7201a8\"],[0.3333333333333333,\"#9c179e\"],[0.4444444444444444,\"#bd3786\"],[0.5555555555555556,\"#d8576b\"],[0.6666666666666666,\"#ed7953\"],[0.7777777777777778,\"#fb9f3a\"],[0.8888888888888888,\"#fdca26\"],[1.0,\"#f0f921\"]]},\"colorway\":[\"#636efa\",\"#EF553B\",\"#00cc96\",\"#ab63fa\",\"#FFA15A\",\"#19d3f3\",\"#FF6692\",\"#B6E880\",\"#FF97FF\",\"#FECB52\"],\"font\":{\"color\":\"#2a3f5f\"},\"geo\":{\"bgcolor\":\"white\",\"lakecolor\":\"white\",\"landcolor\":\"#E5ECF6\",\"showlakes\":true,\"showland\":true,\"subunitcolor\":\"white\"},\"hoverlabel\":{\"align\":\"left\"},\"hovermode\":\"closest\",\"mapbox\":{\"style\":\"light\"},\"paper_bgcolor\":\"white\",\"plot_bgcolor\":\"#E5ECF6\",\"polar\":{\"angularaxis\":{\"gridcolor\":\"white\",\"linecolor\":\"white\",\"ticks\":\"\"},\"bgcolor\":\"#E5ECF6\",\"radialaxis\":{\"gridcolor\":\"white\",\"linecolor\":\"white\",\"ticks\":\"\"}},\"scene\":{\"xaxis\":{\"backgroundcolor\":\"#E5ECF6\",\"gridcolor\":\"white\",\"gridwidth\":2,\"linecolor\":\"white\",\"showbackground\":true,\"ticks\":\"\",\"zerolinecolor\":\"white\"},\"yaxis\":{\"backgroundcolor\":\"#E5ECF6\",\"gridcolor\":\"white\",\"gridwidth\":2,\"linecolor\":\"white\",\"showbackground\":true,\"ticks\":\"\",\"zerolinecolor\":\"white\"},\"zaxis\":{\"backgroundcolor\":\"#E5ECF6\",\"gridcolor\":\"white\",\"gridwidth\":2,\"linecolor\":\"white\",\"showbackground\":true,\"ticks\":\"\",\"zerolinecolor\":\"white\"}},\"shapedefaults\":{\"line\":{\"color\":\"#2a3f5f\"}},\"ternary\":{\"aaxis\":{\"gridcolor\":\"white\",\"linecolor\":\"white\",\"ticks\":\"\"},\"baxis\":{\"gridcolor\":\"white\",\"linecolor\":\"white\",\"ticks\":\"\"},\"bgcolor\":\"#E5ECF6\",\"caxis\":{\"gridcolor\":\"white\",\"linecolor\":\"white\",\"ticks\":\"\"}},\"title\":{\"x\":0.05},\"xaxis\":{\"automargin\":true,\"gridcolor\":\"white\",\"linecolor\":\"white\",\"ticks\":\"\",\"title\":{\"standoff\":15},\"zerolinecolor\":\"white\",\"zerolinewidth\":2},\"yaxis\":{\"automargin\":true,\"gridcolor\":\"white\",\"linecolor\":\"white\",\"ticks\":\"\",\"title\":{\"standoff\":15},\"zerolinecolor\":\"white\",\"zerolinewidth\":2}}},\"xaxis\":{\"anchor\":\"y\",\"domain\":[0.0,1.0],\"title\":{\"text\":\"Comp-1\"}},\"yaxis\":{\"anchor\":\"x\",\"domain\":[0.0,1.0],\"title\":{\"text\":\"Comp-2\"}},\"legend\":{\"title\":{\"text\":\"Dataset\"},\"tracegroupgap\":0,\"font\":{\"size\":16}},\"margin\":{\"t\":60},\"showlegend\":true},                        {\"responsive\": true}                    ).then(function(){\n",
              "                            \n",
              "var gd = document.getElementById('a89014f9-6c79-4a94-a723-e9d7302dee9f');\n",
              "var x = new MutationObserver(function (mutations, observer) {{\n",
              "        var display = window.getComputedStyle(gd).display;\n",
              "        if (!display || display === 'none') {{\n",
              "            console.log([gd, 'removed!']);\n",
              "            Plotly.purge(gd);\n",
              "            observer.disconnect();\n",
              "        }}\n",
              "}});\n",
              "\n",
              "// Listen for the removal of the full notebook cells\n",
              "var notebookContainer = gd.closest('#notebook-container');\n",
              "if (notebookContainer) {{\n",
              "    x.observe(notebookContainer, {childList: true});\n",
              "}}\n",
              "\n",
              "// Listen for the clearing of the current output cell\n",
              "var outputEl = gd.closest('.output');\n",
              "if (outputEl) {{\n",
              "    x.observe(outputEl, {childList: true});\n",
              "}}\n",
              "\n",
              "                        })                };                            </script>        </div>\n",
              "</body>\n",
              "</html>"
            ]
          },
          "metadata": {}
        }
      ]
    },
    {
      "cell_type": "code",
      "source": [
        "fig.write_image(\"tsne_convqa_datasets.pdf\", engine=\"kaleido\")"
      ],
      "metadata": {
        "id": "ZWwHJtwkD7zt"
      },
      "execution_count": null,
      "outputs": []
    }
  ]
}